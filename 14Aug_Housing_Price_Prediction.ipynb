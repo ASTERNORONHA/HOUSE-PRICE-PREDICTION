{
 "cells": [
  {
   "cell_type": "code",
   "execution_count": 1,
   "id": "6fbc7fd4",
   "metadata": {},
   "outputs": [],
   "source": [
    "import pandas as pd\n",
    "import numpy as np\n",
    "import matplotlib.pyplot as plt"
   ]
  },
  {
   "cell_type": "code",
   "execution_count": 2,
   "id": "7e265481",
   "metadata": {},
   "outputs": [
    {
     "data": {
      "text/html": [
       "<div>\n",
       "<style scoped>\n",
       "    .dataframe tbody tr th:only-of-type {\n",
       "        vertical-align: middle;\n",
       "    }\n",
       "\n",
       "    .dataframe tbody tr th {\n",
       "        vertical-align: top;\n",
       "    }\n",
       "\n",
       "    .dataframe thead th {\n",
       "        text-align: right;\n",
       "    }\n",
       "</style>\n",
       "<table border=\"1\" class=\"dataframe\">\n",
       "  <thead>\n",
       "    <tr style=\"text-align: right;\">\n",
       "      <th></th>\n",
       "      <th>price</th>\n",
       "      <th>area</th>\n",
       "      <th>bedrooms</th>\n",
       "      <th>bathrooms</th>\n",
       "      <th>stories</th>\n",
       "      <th>mainroad</th>\n",
       "      <th>guestroom</th>\n",
       "      <th>basement</th>\n",
       "      <th>hotwaterheating</th>\n",
       "      <th>airconditioning</th>\n",
       "      <th>parking</th>\n",
       "      <th>prefarea</th>\n",
       "      <th>furnishingstatus</th>\n",
       "      <th>Access to shopping malls</th>\n",
       "      <th>access to schools</th>\n",
       "      <th>hospitals nearby</th>\n",
       "      <th>restuarants nearby</th>\n",
       "      <th>Property age housin</th>\n",
       "      <th>crimerates</th>\n",
       "      <th>place of worship</th>\n",
       "    </tr>\n",
       "  </thead>\n",
       "  <tbody>\n",
       "    <tr>\n",
       "      <th>0</th>\n",
       "      <td>13300000</td>\n",
       "      <td>7420</td>\n",
       "      <td>4</td>\n",
       "      <td>2</td>\n",
       "      <td>3</td>\n",
       "      <td>yes</td>\n",
       "      <td>no</td>\n",
       "      <td>no</td>\n",
       "      <td>no</td>\n",
       "      <td>yes</td>\n",
       "      <td>2</td>\n",
       "      <td>yes</td>\n",
       "      <td>furnished</td>\n",
       "      <td>5</td>\n",
       "      <td>9</td>\n",
       "      <td>7</td>\n",
       "      <td>7</td>\n",
       "      <td>2</td>\n",
       "      <td>low</td>\n",
       "      <td>4</td>\n",
       "    </tr>\n",
       "    <tr>\n",
       "      <th>1</th>\n",
       "      <td>12250000</td>\n",
       "      <td>8960</td>\n",
       "      <td>4</td>\n",
       "      <td>4</td>\n",
       "      <td>4</td>\n",
       "      <td>yes</td>\n",
       "      <td>no</td>\n",
       "      <td>no</td>\n",
       "      <td>no</td>\n",
       "      <td>yes</td>\n",
       "      <td>3</td>\n",
       "      <td>no</td>\n",
       "      <td>furnished</td>\n",
       "      <td>5</td>\n",
       "      <td>8</td>\n",
       "      <td>6</td>\n",
       "      <td>7</td>\n",
       "      <td>3</td>\n",
       "      <td>high</td>\n",
       "      <td>6</td>\n",
       "    </tr>\n",
       "    <tr>\n",
       "      <th>2</th>\n",
       "      <td>12250000</td>\n",
       "      <td>9960</td>\n",
       "      <td>3</td>\n",
       "      <td>2</td>\n",
       "      <td>2</td>\n",
       "      <td>yes</td>\n",
       "      <td>no</td>\n",
       "      <td>yes</td>\n",
       "      <td>no</td>\n",
       "      <td>no</td>\n",
       "      <td>2</td>\n",
       "      <td>yes</td>\n",
       "      <td>semi-furnished</td>\n",
       "      <td>4</td>\n",
       "      <td>9</td>\n",
       "      <td>9</td>\n",
       "      <td>8</td>\n",
       "      <td>2</td>\n",
       "      <td>low</td>\n",
       "      <td>9</td>\n",
       "    </tr>\n",
       "    <tr>\n",
       "      <th>3</th>\n",
       "      <td>12215000</td>\n",
       "      <td>7500</td>\n",
       "      <td>4</td>\n",
       "      <td>2</td>\n",
       "      <td>2</td>\n",
       "      <td>yes</td>\n",
       "      <td>no</td>\n",
       "      <td>yes</td>\n",
       "      <td>no</td>\n",
       "      <td>yes</td>\n",
       "      <td>3</td>\n",
       "      <td>yes</td>\n",
       "      <td>furnished</td>\n",
       "      <td>1</td>\n",
       "      <td>4</td>\n",
       "      <td>9</td>\n",
       "      <td>4</td>\n",
       "      <td>3</td>\n",
       "      <td>high</td>\n",
       "      <td>7</td>\n",
       "    </tr>\n",
       "    <tr>\n",
       "      <th>4</th>\n",
       "      <td>11410000</td>\n",
       "      <td>7420</td>\n",
       "      <td>4</td>\n",
       "      <td>1</td>\n",
       "      <td>2</td>\n",
       "      <td>yes</td>\n",
       "      <td>yes</td>\n",
       "      <td>yes</td>\n",
       "      <td>no</td>\n",
       "      <td>yes</td>\n",
       "      <td>2</td>\n",
       "      <td>no</td>\n",
       "      <td>furnished</td>\n",
       "      <td>6</td>\n",
       "      <td>4</td>\n",
       "      <td>4</td>\n",
       "      <td>6</td>\n",
       "      <td>2</td>\n",
       "      <td>high</td>\n",
       "      <td>7</td>\n",
       "    </tr>\n",
       "    <tr>\n",
       "      <th>...</th>\n",
       "      <td>...</td>\n",
       "      <td>...</td>\n",
       "      <td>...</td>\n",
       "      <td>...</td>\n",
       "      <td>...</td>\n",
       "      <td>...</td>\n",
       "      <td>...</td>\n",
       "      <td>...</td>\n",
       "      <td>...</td>\n",
       "      <td>...</td>\n",
       "      <td>...</td>\n",
       "      <td>...</td>\n",
       "      <td>...</td>\n",
       "      <td>...</td>\n",
       "      <td>...</td>\n",
       "      <td>...</td>\n",
       "      <td>...</td>\n",
       "      <td>...</td>\n",
       "      <td>...</td>\n",
       "      <td>...</td>\n",
       "    </tr>\n",
       "    <tr>\n",
       "      <th>540</th>\n",
       "      <td>1820000</td>\n",
       "      <td>3000</td>\n",
       "      <td>2</td>\n",
       "      <td>1</td>\n",
       "      <td>1</td>\n",
       "      <td>yes</td>\n",
       "      <td>no</td>\n",
       "      <td>yes</td>\n",
       "      <td>no</td>\n",
       "      <td>no</td>\n",
       "      <td>2</td>\n",
       "      <td>no</td>\n",
       "      <td>unfurnished</td>\n",
       "      <td>0</td>\n",
       "      <td>4</td>\n",
       "      <td>1</td>\n",
       "      <td>7</td>\n",
       "      <td>2</td>\n",
       "      <td>low</td>\n",
       "      <td>4</td>\n",
       "    </tr>\n",
       "    <tr>\n",
       "      <th>541</th>\n",
       "      <td>1767150</td>\n",
       "      <td>2400</td>\n",
       "      <td>3</td>\n",
       "      <td>1</td>\n",
       "      <td>1</td>\n",
       "      <td>no</td>\n",
       "      <td>no</td>\n",
       "      <td>no</td>\n",
       "      <td>no</td>\n",
       "      <td>no</td>\n",
       "      <td>0</td>\n",
       "      <td>no</td>\n",
       "      <td>semi-furnished</td>\n",
       "      <td>1</td>\n",
       "      <td>4</td>\n",
       "      <td>2</td>\n",
       "      <td>8</td>\n",
       "      <td>0</td>\n",
       "      <td>high</td>\n",
       "      <td>6</td>\n",
       "    </tr>\n",
       "    <tr>\n",
       "      <th>542</th>\n",
       "      <td>1750000</td>\n",
       "      <td>3620</td>\n",
       "      <td>2</td>\n",
       "      <td>1</td>\n",
       "      <td>1</td>\n",
       "      <td>yes</td>\n",
       "      <td>no</td>\n",
       "      <td>no</td>\n",
       "      <td>no</td>\n",
       "      <td>no</td>\n",
       "      <td>0</td>\n",
       "      <td>no</td>\n",
       "      <td>unfurnished</td>\n",
       "      <td>7</td>\n",
       "      <td>7</td>\n",
       "      <td>5</td>\n",
       "      <td>9</td>\n",
       "      <td>0</td>\n",
       "      <td>high</td>\n",
       "      <td>9</td>\n",
       "    </tr>\n",
       "    <tr>\n",
       "      <th>543</th>\n",
       "      <td>1750000</td>\n",
       "      <td>2910</td>\n",
       "      <td>3</td>\n",
       "      <td>1</td>\n",
       "      <td>1</td>\n",
       "      <td>no</td>\n",
       "      <td>no</td>\n",
       "      <td>no</td>\n",
       "      <td>no</td>\n",
       "      <td>no</td>\n",
       "      <td>0</td>\n",
       "      <td>no</td>\n",
       "      <td>furnished</td>\n",
       "      <td>8</td>\n",
       "      <td>7</td>\n",
       "      <td>1</td>\n",
       "      <td>4</td>\n",
       "      <td>0</td>\n",
       "      <td>low</td>\n",
       "      <td>7</td>\n",
       "    </tr>\n",
       "    <tr>\n",
       "      <th>544</th>\n",
       "      <td>1750000</td>\n",
       "      <td>3850</td>\n",
       "      <td>3</td>\n",
       "      <td>1</td>\n",
       "      <td>2</td>\n",
       "      <td>yes</td>\n",
       "      <td>no</td>\n",
       "      <td>no</td>\n",
       "      <td>no</td>\n",
       "      <td>no</td>\n",
       "      <td>0</td>\n",
       "      <td>no</td>\n",
       "      <td>unfurnished</td>\n",
       "      <td>9</td>\n",
       "      <td>8</td>\n",
       "      <td>4</td>\n",
       "      <td>4</td>\n",
       "      <td>0</td>\n",
       "      <td>low</td>\n",
       "      <td>7</td>\n",
       "    </tr>\n",
       "  </tbody>\n",
       "</table>\n",
       "<p>545 rows × 20 columns</p>\n",
       "</div>"
      ],
      "text/plain": [
       "        price  area  bedrooms  bathrooms  stories mainroad guestroom basement  \\\n",
       "0    13300000  7420         4          2        3      yes        no       no   \n",
       "1    12250000  8960         4          4        4      yes        no       no   \n",
       "2    12250000  9960         3          2        2      yes        no      yes   \n",
       "3    12215000  7500         4          2        2      yes        no      yes   \n",
       "4    11410000  7420         4          1        2      yes       yes      yes   \n",
       "..        ...   ...       ...        ...      ...      ...       ...      ...   \n",
       "540   1820000  3000         2          1        1      yes        no      yes   \n",
       "541   1767150  2400         3          1        1       no        no       no   \n",
       "542   1750000  3620         2          1        1      yes        no       no   \n",
       "543   1750000  2910         3          1        1       no        no       no   \n",
       "544   1750000  3850         3          1        2      yes        no       no   \n",
       "\n",
       "    hotwaterheating airconditioning  parking prefarea furnishingstatus  \\\n",
       "0                no             yes        2      yes        furnished   \n",
       "1                no             yes        3       no        furnished   \n",
       "2                no              no        2      yes   semi-furnished   \n",
       "3                no             yes        3      yes        furnished   \n",
       "4                no             yes        2       no        furnished   \n",
       "..              ...             ...      ...      ...              ...   \n",
       "540              no              no        2       no      unfurnished   \n",
       "541              no              no        0       no   semi-furnished   \n",
       "542              no              no        0       no      unfurnished   \n",
       "543              no              no        0       no        furnished   \n",
       "544              no              no        0       no      unfurnished   \n",
       "\n",
       "     Access to shopping malls  access to schools  hospitals nearby  \\\n",
       "0                           5                  9                 7   \n",
       "1                           5                  8                 6   \n",
       "2                           4                  9                 9   \n",
       "3                           1                  4                 9   \n",
       "4                           6                  4                 4   \n",
       "..                        ...                ...               ...   \n",
       "540                         0                  4                 1   \n",
       "541                         1                  4                 2   \n",
       "542                         7                  7                 5   \n",
       "543                         8                  7                 1   \n",
       "544                         9                  8                 4   \n",
       "\n",
       "     restuarants nearby  Property age housin crimerates  place of worship  \n",
       "0                     7                    2       low                  4  \n",
       "1                     7                    3       high                 6  \n",
       "2                     8                    2       low                  9  \n",
       "3                     4                    3       high                 7  \n",
       "4                     6                    2       high                 7  \n",
       "..                  ...                  ...        ...               ...  \n",
       "540                   7                    2       low                  4  \n",
       "541                   8                    0       high                 6  \n",
       "542                   9                    0       high                 9  \n",
       "543                   4                    0       low                  7  \n",
       "544                   4                    0       low                  7  \n",
       "\n",
       "[545 rows x 20 columns]"
      ]
     },
     "execution_count": 2,
     "metadata": {},
     "output_type": "execute_result"
    }
   ],
   "source": [
    "df = pd.read_csv('Housing 1.csv')\n",
    "df"
   ]
  },
  {
   "cell_type": "code",
   "execution_count": 3,
   "id": "9c2c5f5d",
   "metadata": {},
   "outputs": [
    {
     "data": {
      "text/plain": [
       "(545, 20)"
      ]
     },
     "execution_count": 3,
     "metadata": {},
     "output_type": "execute_result"
    }
   ],
   "source": [
    "df.shape"
   ]
  },
  {
   "cell_type": "code",
   "execution_count": 4,
   "id": "7a4c0184",
   "metadata": {},
   "outputs": [
    {
     "data": {
      "text/plain": [
       "price                       0\n",
       "area                        0\n",
       "bedrooms                    0\n",
       "bathrooms                   0\n",
       "stories                     0\n",
       "mainroad                    0\n",
       "guestroom                   0\n",
       "basement                    0\n",
       "hotwaterheating             0\n",
       "airconditioning             0\n",
       "parking                     0\n",
       "prefarea                    0\n",
       "furnishingstatus            0\n",
       "Access to shopping malls    0\n",
       "access to schools           0\n",
       "hospitals nearby            0\n",
       "restuarants nearby          0\n",
       "Property age housin         0\n",
       "crimerates                  0\n",
       "place of worship            0\n",
       "dtype: int64"
      ]
     },
     "execution_count": 4,
     "metadata": {},
     "output_type": "execute_result"
    }
   ],
   "source": [
    "df.isnull().sum()"
   ]
  },
  {
   "cell_type": "code",
   "execution_count": 5,
   "id": "0683a949",
   "metadata": {},
   "outputs": [
    {
     "data": {
      "text/plain": [
       "price                        int64\n",
       "area                         int64\n",
       "bedrooms                     int64\n",
       "bathrooms                    int64\n",
       "stories                      int64\n",
       "mainroad                    object\n",
       "guestroom                   object\n",
       "basement                    object\n",
       "hotwaterheating             object\n",
       "airconditioning             object\n",
       "parking                      int64\n",
       "prefarea                    object\n",
       "furnishingstatus            object\n",
       "Access to shopping malls     int64\n",
       "access to schools            int64\n",
       "hospitals nearby             int64\n",
       "restuarants nearby           int64\n",
       "Property age housin          int64\n",
       "crimerates                  object\n",
       "place of worship             int64\n",
       "dtype: object"
      ]
     },
     "execution_count": 5,
     "metadata": {},
     "output_type": "execute_result"
    }
   ],
   "source": [
    "df.dtypes"
   ]
  },
  {
   "cell_type": "code",
   "execution_count": 6,
   "id": "8c479520",
   "metadata": {},
   "outputs": [
    {
     "data": {
      "text/plain": [
       "3    300\n",
       "2    136\n",
       "4     95\n",
       "5     10\n",
       "6      2\n",
       "1      2\n",
       "Name: bedrooms, dtype: int64"
      ]
     },
     "execution_count": 6,
     "metadata": {},
     "output_type": "execute_result"
    }
   ],
   "source": [
    "df['bedrooms'].value_counts()"
   ]
  },
  {
   "cell_type": "code",
   "execution_count": 7,
   "id": "71b83d94",
   "metadata": {},
   "outputs": [
    {
     "data": {
      "text/plain": [
       "yes    468\n",
       "no      77\n",
       "Name: mainroad, dtype: int64"
      ]
     },
     "execution_count": 7,
     "metadata": {},
     "output_type": "execute_result"
    }
   ],
   "source": [
    "df['mainroad'].value_counts()"
   ]
  },
  {
   "cell_type": "code",
   "execution_count": 8,
   "id": "87f76666",
   "metadata": {},
   "outputs": [
    {
     "data": {
      "text/plain": [
       "1    401\n",
       "2    133\n",
       "3     10\n",
       "4      1\n",
       "Name: bathrooms, dtype: int64"
      ]
     },
     "execution_count": 8,
     "metadata": {},
     "output_type": "execute_result"
    }
   ],
   "source": [
    "df['bathrooms'].value_counts()"
   ]
  },
  {
   "cell_type": "code",
   "execution_count": 9,
   "id": "c9d836b4",
   "metadata": {},
   "outputs": [
    {
     "data": {
      "text/plain": [
       "2    238\n",
       "1    227\n",
       "4     41\n",
       "3     39\n",
       "Name: stories, dtype: int64"
      ]
     },
     "execution_count": 9,
     "metadata": {},
     "output_type": "execute_result"
    }
   ],
   "source": [
    "df['stories'].value_counts()"
   ]
  },
  {
   "cell_type": "code",
   "execution_count": 10,
   "id": "b95c76fe",
   "metadata": {},
   "outputs": [
    {
     "data": {
      "text/plain": [
       "no     448\n",
       "yes     97\n",
       "Name: guestroom, dtype: int64"
      ]
     },
     "execution_count": 10,
     "metadata": {},
     "output_type": "execute_result"
    }
   ],
   "source": [
    "df['guestroom'].value_counts()"
   ]
  },
  {
   "cell_type": "code",
   "execution_count": 11,
   "id": "ffe4d89d",
   "metadata": {},
   "outputs": [
    {
     "data": {
      "text/plain": [
       "no     354\n",
       "yes    191\n",
       "Name: basement, dtype: int64"
      ]
     },
     "execution_count": 11,
     "metadata": {},
     "output_type": "execute_result"
    }
   ],
   "source": [
    "df['basement'].value_counts()"
   ]
  },
  {
   "cell_type": "code",
   "execution_count": 12,
   "id": "2fae527a",
   "metadata": {},
   "outputs": [
    {
     "data": {
      "text/plain": [
       "no     520\n",
       "yes     25\n",
       "Name: hotwaterheating, dtype: int64"
      ]
     },
     "execution_count": 12,
     "metadata": {},
     "output_type": "execute_result"
    }
   ],
   "source": [
    "df['hotwaterheating'].value_counts()     "
   ]
  },
  {
   "cell_type": "code",
   "execution_count": 13,
   "id": "fa2ba4a3",
   "metadata": {},
   "outputs": [
    {
     "data": {
      "text/plain": [
       "no     373\n",
       "yes    172\n",
       "Name: airconditioning, dtype: int64"
      ]
     },
     "execution_count": 13,
     "metadata": {},
     "output_type": "execute_result"
    }
   ],
   "source": [
    "df['airconditioning'].value_counts()     "
   ]
  },
  {
   "cell_type": "code",
   "execution_count": 14,
   "id": "f7bfe9b0",
   "metadata": {},
   "outputs": [
    {
     "data": {
      "text/plain": [
       "no     417\n",
       "yes    128\n",
       "Name: prefarea, dtype: int64"
      ]
     },
     "execution_count": 14,
     "metadata": {},
     "output_type": "execute_result"
    }
   ],
   "source": [
    "df['prefarea'].value_counts()     "
   ]
  },
  {
   "cell_type": "code",
   "execution_count": 15,
   "id": "51bd7a69",
   "metadata": {},
   "outputs": [
    {
     "data": {
      "text/plain": [
       "semi-furnished    227\n",
       "unfurnished       178\n",
       "furnished         140\n",
       "Name: furnishingstatus, dtype: int64"
      ]
     },
     "execution_count": 15,
     "metadata": {},
     "output_type": "execute_result"
    }
   ],
   "source": [
    "df['furnishingstatus'].value_counts()     "
   ]
  },
  {
   "cell_type": "code",
   "execution_count": 16,
   "id": "e539d9fa",
   "metadata": {},
   "outputs": [
    {
     "data": {
      "text/plain": [
       "low     321\n",
       "high    224\n",
       "Name: crimerates, dtype: int64"
      ]
     },
     "execution_count": 16,
     "metadata": {},
     "output_type": "execute_result"
    }
   ],
   "source": [
    "df['crimerates'].value_counts()"
   ]
  },
  {
   "cell_type": "code",
   "execution_count": 17,
   "id": "bc4fc9db",
   "metadata": {},
   "outputs": [],
   "source": [
    "from sklearn.preprocessing import LabelEncoder"
   ]
  },
  {
   "cell_type": "code",
   "execution_count": 18,
   "id": "32bdede3",
   "metadata": {},
   "outputs": [],
   "source": [
    "lb = LabelEncoder()\n",
    "df['mainroad'] = lb.fit_transform(df['mainroad'])\n",
    "df['guestroom'] = lb.fit_transform(df['guestroom'])\n",
    "df['basement'] = lb.fit_transform(df['basement'])\n",
    "df['hotwaterheating'] = lb.fit_transform(df['hotwaterheating'])\n",
    "df['airconditioning'] = lb.fit_transform(df['airconditioning'])\n",
    "df['prefarea'] = lb.fit_transform(df['prefarea'])\n",
    "df['furnishingstatus'] = lb.fit_transform(df['furnishingstatus'])\n",
    "df['crimerates'] = lb.fit_transform(df['crimerates'])"
   ]
  },
  {
   "cell_type": "code",
   "execution_count": 19,
   "id": "51983b51",
   "metadata": {},
   "outputs": [
    {
     "data": {
      "text/plain": [
       "1    468\n",
       "0     77\n",
       "Name: mainroad, dtype: int64"
      ]
     },
     "execution_count": 19,
     "metadata": {},
     "output_type": "execute_result"
    }
   ],
   "source": [
    "df['mainroad'].value_counts()\n",
    "# yes    468\n",
    "# no      77"
   ]
  },
  {
   "cell_type": "code",
   "execution_count": 20,
   "id": "39014410",
   "metadata": {},
   "outputs": [
    {
     "data": {
      "text/plain": [
       "0    448\n",
       "1     97\n",
       "Name: guestroom, dtype: int64"
      ]
     },
     "execution_count": 20,
     "metadata": {},
     "output_type": "execute_result"
    }
   ],
   "source": [
    "df['guestroom'].value_counts()\n",
    "# no     448\n",
    "# yes     97"
   ]
  },
  {
   "cell_type": "code",
   "execution_count": 21,
   "id": "1455c51b",
   "metadata": {},
   "outputs": [
    {
     "data": {
      "text/plain": [
       "0    354\n",
       "1    191\n",
       "Name: basement, dtype: int64"
      ]
     },
     "execution_count": 21,
     "metadata": {},
     "output_type": "execute_result"
    }
   ],
   "source": [
    "df['basement'].value_counts()\n",
    "# no     354\n",
    "# yes    191"
   ]
  },
  {
   "cell_type": "code",
   "execution_count": 22,
   "id": "92d4ada3",
   "metadata": {},
   "outputs": [
    {
     "data": {
      "text/plain": [
       "0    520\n",
       "1     25\n",
       "Name: hotwaterheating, dtype: int64"
      ]
     },
     "execution_count": 22,
     "metadata": {},
     "output_type": "execute_result"
    }
   ],
   "source": [
    "df['hotwaterheating'].value_counts()\n",
    "# no     520\n",
    "# yes     25"
   ]
  },
  {
   "cell_type": "code",
   "execution_count": 23,
   "id": "554aaf52",
   "metadata": {},
   "outputs": [
    {
     "data": {
      "text/plain": [
       "0    373\n",
       "1    172\n",
       "Name: airconditioning, dtype: int64"
      ]
     },
     "execution_count": 23,
     "metadata": {},
     "output_type": "execute_result"
    }
   ],
   "source": [
    "df['airconditioning'].value_counts()\n",
    "# no     373\n",
    "# yes    172"
   ]
  },
  {
   "cell_type": "code",
   "execution_count": 24,
   "id": "e8d1171b",
   "metadata": {},
   "outputs": [
    {
     "data": {
      "text/plain": [
       "0    417\n",
       "1    128\n",
       "Name: prefarea, dtype: int64"
      ]
     },
     "execution_count": 24,
     "metadata": {},
     "output_type": "execute_result"
    }
   ],
   "source": [
    "df['prefarea'].value_counts()\n",
    "# no     417\n",
    "# yes    128"
   ]
  },
  {
   "cell_type": "code",
   "execution_count": 25,
   "id": "6e1b8c1c",
   "metadata": {},
   "outputs": [
    {
     "data": {
      "text/plain": [
       "1    227\n",
       "2    178\n",
       "0    140\n",
       "Name: furnishingstatus, dtype: int64"
      ]
     },
     "execution_count": 25,
     "metadata": {},
     "output_type": "execute_result"
    }
   ],
   "source": [
    "df['furnishingstatus'].value_counts()\n",
    "# semi-furnished    227\n",
    "# unfurnished       178\n",
    "# furnished         140"
   ]
  },
  {
   "cell_type": "code",
   "execution_count": 26,
   "id": "c4317292",
   "metadata": {},
   "outputs": [
    {
     "data": {
      "text/plain": [
       "1    321\n",
       "0    224\n",
       "Name: crimerates, dtype: int64"
      ]
     },
     "execution_count": 26,
     "metadata": {},
     "output_type": "execute_result"
    }
   ],
   "source": [
    "df['crimerates'].value_counts()"
   ]
  },
  {
   "cell_type": "code",
   "execution_count": 27,
   "id": "547bbe66",
   "metadata": {},
   "outputs": [
    {
     "data": {
      "text/plain": [
       "price                       int64\n",
       "area                        int64\n",
       "bedrooms                    int64\n",
       "bathrooms                   int64\n",
       "stories                     int64\n",
       "mainroad                    int32\n",
       "guestroom                   int32\n",
       "basement                    int32\n",
       "hotwaterheating             int32\n",
       "airconditioning             int32\n",
       "parking                     int64\n",
       "prefarea                    int32\n",
       "furnishingstatus            int32\n",
       "Access to shopping malls    int64\n",
       "access to schools           int64\n",
       "hospitals nearby            int64\n",
       "restuarants nearby          int64\n",
       "Property age housin         int64\n",
       "crimerates                  int32\n",
       "place of worship            int64\n",
       "dtype: object"
      ]
     },
     "execution_count": 27,
     "metadata": {},
     "output_type": "execute_result"
    }
   ],
   "source": [
    "df.dtypes"
   ]
  },
  {
   "cell_type": "code",
   "execution_count": 28,
   "id": "24952f7d",
   "metadata": {},
   "outputs": [
    {
     "data": {
      "text/plain": [
       "0"
      ]
     },
     "execution_count": 28,
     "metadata": {},
     "output_type": "execute_result"
    }
   ],
   "source": [
    "df.duplicated().sum()"
   ]
  },
  {
   "cell_type": "code",
   "execution_count": 29,
   "id": "c924fda4",
   "metadata": {},
   "outputs": [
    {
     "name": "stdout",
     "output_type": "stream",
     "text": [
      "<class 'pandas.core.frame.DataFrame'>\n",
      "<class 'pandas.core.series.Series'>\n",
      "(545, 19)\n",
      "(545,)\n"
     ]
    },
    {
     "data": {
      "text/plain": [
       "Index(['area', 'bedrooms', 'bathrooms', 'stories', 'mainroad', 'guestroom',\n",
       "       'basement', 'hotwaterheating', 'airconditioning', 'parking', 'prefarea',\n",
       "       'furnishingstatus', 'Access to shopping malls', 'access to schools',\n",
       "       'hospitals nearby', 'restuarants nearby', 'Property age housin',\n",
       "       'crimerates', 'place of worship'],\n",
       "      dtype='object')"
      ]
     },
     "execution_count": 29,
     "metadata": {},
     "output_type": "execute_result"
    }
   ],
   "source": [
    "x = df.drop('price',axis=1)\n",
    "y = df['price']\n",
    "print(type(x))\n",
    "print(type(y))\n",
    "print(x.shape)\n",
    "print(y.shape)\n",
    "(x).columns"
   ]
  },
  {
   "cell_type": "code",
   "execution_count": 30,
   "id": "65a71f1c",
   "metadata": {},
   "outputs": [],
   "source": [
    "from sklearn.model_selection import train_test_split"
   ]
  },
  {
   "cell_type": "code",
   "execution_count": 31,
   "id": "d8d8325c",
   "metadata": {},
   "outputs": [
    {
     "name": "stdout",
     "output_type": "stream",
     "text": [
      "(327, 19)\n",
      "(218, 19)\n",
      "(327,)\n",
      "(218,)\n"
     ]
    }
   ],
   "source": [
    "x_train,x_test,y_train,y_test = train_test_split(x,y,test_size=0.40)\n",
    "print(x_train.shape)\n",
    "print(x_test.shape)\n",
    "print(y_train.shape)\n",
    "print(y_test.shape)"
   ]
  },
  {
   "cell_type": "markdown",
   "id": "cae810e7",
   "metadata": {},
   "source": [
    "#### Build the Model"
   ]
  },
  {
   "cell_type": "code",
   "execution_count": 32,
   "id": "72245416",
   "metadata": {},
   "outputs": [],
   "source": [
    "from sklearn.linear_model import LinearRegression\n",
    "\n",
    "from sklearn.metrics import mean_squared_error,mean_absolute_error"
   ]
  },
  {
   "cell_type": "code",
   "execution_count": 33,
   "id": "0647b5a7",
   "metadata": {},
   "outputs": [],
   "source": [
    "def mscore(model):  # R2 score\n",
    "    print('Training score',model.score(x_train,y_train))\n",
    "    print('Testing score',model.score(x_test,y_test))\n",
    "    \n",
    "def gen_metrics(ytest,ypred):\n",
    "    mae = mean_absolute_error(ytest,ypred)\n",
    "    mse = mean_squared_error(ytest,ypred)\n",
    "    rmse = np.sqrt(mean_squared_error(ytest,ypred))\n",
    "    print('MAE',mae)\n",
    "    print('MSE',mse)\n",
    "    print('RMSE',rmse)"
   ]
  },
  {
   "cell_type": "markdown",
   "id": "fecb3f4b",
   "metadata": {},
   "source": [
    "### 1) LinearRegression"
   ]
  },
  {
   "cell_type": "code",
   "execution_count": 34,
   "id": "fa037b29",
   "metadata": {},
   "outputs": [
    {
     "data": {
      "text/html": [
       "<style>#sk-container-id-1 {color: black;background-color: white;}#sk-container-id-1 pre{padding: 0;}#sk-container-id-1 div.sk-toggleable {background-color: white;}#sk-container-id-1 label.sk-toggleable__label {cursor: pointer;display: block;width: 100%;margin-bottom: 0;padding: 0.3em;box-sizing: border-box;text-align: center;}#sk-container-id-1 label.sk-toggleable__label-arrow:before {content: \"▸\";float: left;margin-right: 0.25em;color: #696969;}#sk-container-id-1 label.sk-toggleable__label-arrow:hover:before {color: black;}#sk-container-id-1 div.sk-estimator:hover label.sk-toggleable__label-arrow:before {color: black;}#sk-container-id-1 div.sk-toggleable__content {max-height: 0;max-width: 0;overflow: hidden;text-align: left;background-color: #f0f8ff;}#sk-container-id-1 div.sk-toggleable__content pre {margin: 0.2em;color: black;border-radius: 0.25em;background-color: #f0f8ff;}#sk-container-id-1 input.sk-toggleable__control:checked~div.sk-toggleable__content {max-height: 200px;max-width: 100%;overflow: auto;}#sk-container-id-1 input.sk-toggleable__control:checked~label.sk-toggleable__label-arrow:before {content: \"▾\";}#sk-container-id-1 div.sk-estimator input.sk-toggleable__control:checked~label.sk-toggleable__label {background-color: #d4ebff;}#sk-container-id-1 div.sk-label input.sk-toggleable__control:checked~label.sk-toggleable__label {background-color: #d4ebff;}#sk-container-id-1 input.sk-hidden--visually {border: 0;clip: rect(1px 1px 1px 1px);clip: rect(1px, 1px, 1px, 1px);height: 1px;margin: -1px;overflow: hidden;padding: 0;position: absolute;width: 1px;}#sk-container-id-1 div.sk-estimator {font-family: monospace;background-color: #f0f8ff;border: 1px dotted black;border-radius: 0.25em;box-sizing: border-box;margin-bottom: 0.5em;}#sk-container-id-1 div.sk-estimator:hover {background-color: #d4ebff;}#sk-container-id-1 div.sk-parallel-item::after {content: \"\";width: 100%;border-bottom: 1px solid gray;flex-grow: 1;}#sk-container-id-1 div.sk-label:hover label.sk-toggleable__label {background-color: #d4ebff;}#sk-container-id-1 div.sk-serial::before {content: \"\";position: absolute;border-left: 1px solid gray;box-sizing: border-box;top: 0;bottom: 0;left: 50%;z-index: 0;}#sk-container-id-1 div.sk-serial {display: flex;flex-direction: column;align-items: center;background-color: white;padding-right: 0.2em;padding-left: 0.2em;position: relative;}#sk-container-id-1 div.sk-item {position: relative;z-index: 1;}#sk-container-id-1 div.sk-parallel {display: flex;align-items: stretch;justify-content: center;background-color: white;position: relative;}#sk-container-id-1 div.sk-item::before, #sk-container-id-1 div.sk-parallel-item::before {content: \"\";position: absolute;border-left: 1px solid gray;box-sizing: border-box;top: 0;bottom: 0;left: 50%;z-index: -1;}#sk-container-id-1 div.sk-parallel-item {display: flex;flex-direction: column;z-index: 1;position: relative;background-color: white;}#sk-container-id-1 div.sk-parallel-item:first-child::after {align-self: flex-end;width: 50%;}#sk-container-id-1 div.sk-parallel-item:last-child::after {align-self: flex-start;width: 50%;}#sk-container-id-1 div.sk-parallel-item:only-child::after {width: 0;}#sk-container-id-1 div.sk-dashed-wrapped {border: 1px dashed gray;margin: 0 0.4em 0.5em 0.4em;box-sizing: border-box;padding-bottom: 0.4em;background-color: white;}#sk-container-id-1 div.sk-label label {font-family: monospace;font-weight: bold;display: inline-block;line-height: 1.2em;}#sk-container-id-1 div.sk-label-container {text-align: center;}#sk-container-id-1 div.sk-container {/* jupyter's `normalize.less` sets `[hidden] { display: none; }` but bootstrap.min.css set `[hidden] { display: none !important; }` so we also need the `!important` here to be able to override the default hidden behavior on the sphinx rendered scikit-learn.org. See: https://github.com/scikit-learn/scikit-learn/issues/21755 */display: inline-block !important;position: relative;}#sk-container-id-1 div.sk-text-repr-fallback {display: none;}</style><div id=\"sk-container-id-1\" class=\"sk-top-container\"><div class=\"sk-text-repr-fallback\"><pre>LinearRegression()</pre><b>In a Jupyter environment, please rerun this cell to show the HTML representation or trust the notebook. <br />On GitHub, the HTML representation is unable to render, please try loading this page with nbviewer.org.</b></div><div class=\"sk-container\" hidden><div class=\"sk-item\"><div class=\"sk-estimator sk-toggleable\"><input class=\"sk-toggleable__control sk-hidden--visually\" id=\"sk-estimator-id-1\" type=\"checkbox\" checked><label for=\"sk-estimator-id-1\" class=\"sk-toggleable__label sk-toggleable__label-arrow\">LinearRegression</label><div class=\"sk-toggleable__content\"><pre>LinearRegression()</pre></div></div></div></div></div>"
      ],
      "text/plain": [
       "LinearRegression()"
      ]
     },
     "execution_count": 34,
     "metadata": {},
     "output_type": "execute_result"
    }
   ],
   "source": [
    "m1 = LinearRegression()\n",
    "m1.fit(x_train,y_train)\n",
    "\n"
   ]
  },
  {
   "cell_type": "code",
   "execution_count": 35,
   "id": "be2c2ce2",
   "metadata": {},
   "outputs": [
    {
     "name": "stdout",
     "output_type": "stream",
     "text": [
      "Training score 0.6870476942900041\n",
      "Testing score 0.674273928844865\n"
     ]
    }
   ],
   "source": [
    "mscore(m1)"
   ]
  },
  {
   "cell_type": "code",
   "execution_count": 36,
   "id": "aae92228",
   "metadata": {},
   "outputs": [],
   "source": [
    "ypred_m1 = m1.predict(x_test)"
   ]
  },
  {
   "cell_type": "code",
   "execution_count": 37,
   "id": "770f637a",
   "metadata": {},
   "outputs": [
    {
     "name": "stdout",
     "output_type": "stream",
     "text": [
      "MAE 790917.1417080719\n",
      "MSE 1017926324899.2239\n",
      "RMSE 1008923.3493676435\n"
     ]
    }
   ],
   "source": [
    "gen_metrics(y_test,ypred_m1)"
   ]
  },
  {
   "cell_type": "code",
   "execution_count": 38,
   "id": "c7db60a4",
   "metadata": {
    "scrolled": true
   },
   "outputs": [
    {
     "data": {
      "text/plain": [
       "<matplotlib.collections.PathCollection at 0x12cffe70520>"
      ]
     },
     "execution_count": 38,
     "metadata": {},
     "output_type": "execute_result"
    },
    {
     "data": {
      "image/png": "[encoded data removed]",
      "text/plain": [
       "<Figure size 640x480 with 1 Axes>"
      ]
     },
     "metadata": {},
     "output_type": "display_data"
    }
   ],
   "source": [
    "plt.scatter(y_test,ypred_m1)"
   ]
  },
  {
   "cell_type": "code",
   "execution_count": 39,
   "id": "76492177",
   "metadata": {},
   "outputs": [
    {
     "name": "stdout",
     "output_type": "stream",
     "text": [
      "[ 3000084.24819581 11262634.70678082  5839943.61128671  9597923.84185343\n",
      "  5385710.582556    2866213.58382117  2215562.49663588  8689960.05239461\n",
      "  7168640.01362241  7023833.68536157  5268829.61908822  2428518.21952252\n",
      "  4513785.71543717  7208789.90163727  5417763.00723485  8260762.44295814\n",
      "  6589257.26257438  2577523.88660945  3799727.23859371  7423388.77188276\n",
      "  7097074.7870772   4089965.7290444   5598813.41527551  4493801.62573224\n",
      "  6865130.7446419   3710222.63519998  4408349.82966713  2984087.48619457\n",
      "  3399094.51023111  4739357.93117213  5889573.67587553  6114085.08927465\n",
      "  4694795.87516838  6623592.72739971  5271949.8500441   6047467.74964292\n",
      "  4255307.42197825  4687266.27687237  2764738.0994102   7341478.08529859\n",
      "  3034276.30065333  5446844.59423146  6554007.24774814  7441763.73917828\n",
      "  2915587.84243147  4066674.38576348  2677985.90484726  5404753.0456443\n",
      "  6420648.74757921  5237678.78512624  5599651.45093151  2647888.28416198\n",
      "  2693819.42317097  6244798.16465897  4789928.48959278  4175853.29052607\n",
      "  6610902.83916484  6107791.65923799  3194477.59467779  7455747.327691\n",
      "  4259548.22880328  8183796.27794157  4469799.45774831  5112052.07477676\n",
      "  6637178.48600903  3377040.28675645  3133162.49015584  6095287.62702426\n",
      "  6156667.91020993  5950228.98258404  8343469.10416227  7733968.92039421\n",
      "  2796311.3442238   3584427.88767805  3879176.2300008   3555676.23083053\n",
      "  5900293.20128944  5016394.19469165  4240273.05322341  6218453.7308655\n",
      "  7236986.40479812  5502309.42531951  4405995.03399744  3542709.09462586\n",
      "  4251308.04050993  4312913.45495383  4372017.23325747  1770358.94738728\n",
      "  4714714.89896249  7772187.44737247  4530199.07777738  5220422.77681821\n",
      "  3825832.98147147  4081835.08639448  8928763.17481679  2866311.25837768\n",
      "  3574861.61382772  5142355.0032088   4839154.357586    8382859.93945874\n",
      "  2132381.54018647  7361945.112467    3534091.24291989  6343819.98215023\n",
      "  6211148.88170747 10240332.71936543  9072958.47611026  2621204.62706841\n",
      "  5897387.47959672  5560418.90295127  3930264.72436747  2571552.89899287\n",
      "  5380183.79136785  4741898.04755073  3471272.13861536  7295786.9431281\n",
      "  3781878.4118824   7371164.10310028  3807047.99355553  4052989.40937815\n",
      "  2546035.14588977  2682518.23522057  4779375.93216073  8483077.74006607\n",
      "  7172567.04269532  5612143.31204557  2571221.67129687  3731533.61767805\n",
      "  2473341.80020675  4503095.22917316  3813751.08539854  4229740.36335455\n",
      "  4336502.34357812  4312786.34138806  3337390.09213902  5052682.44829142\n",
      "  5408423.7329889   3023650.52653758  6600883.81215402  4607720.94732356\n",
      "  4137263.82150673  3935146.67695763  3332059.2243893   4408023.10527458\n",
      "  8294739.32538097  4529801.31646358  6218639.45936704  5331484.35303319\n",
      "  4252380.86115027  2542682.20013774  2680656.2132828   5839571.92978074\n",
      "  4067329.97135122  4369051.18449732  4188655.69150667  6355542.19641752\n",
      "  3340207.95827787  4006559.04150938  6452451.73306656  4442086.39863375\n",
      "  2878001.49266697  6380143.97603016  7413290.92973436  4648607.70093976\n",
      "  2576789.75101017  2802747.71164058  5110209.91177711  2932342.44391979\n",
      "  8226542.01731346  8854111.16388204  5874186.60127165  5340755.59220822\n",
      "  6068204.11629672  5773265.43567315  6261753.40389438  3785191.11395512\n",
      "  4105841.31892164  5992270.17814007  3497267.01223272  2719260.97462568\n",
      "  6218943.97989398  4688914.83587738  5924790.76117748  4703532.28832024\n",
      "  4962416.71966323  3375098.13264422  5462047.00882736  3712659.53698606\n",
      "  3994785.66005436  3570279.72727247  3854626.20779889  3719100.33199094\n",
      "  5523941.334732    2375195.30023271  6278124.34786512  3432984.0209646\n",
      "  6638198.86101278  4735170.42564986  4019299.65555788  6765997.2627944\n",
      "  4241135.1064202   2548809.75283281  3122778.08003906  5775829.21534686\n",
      "  6963388.99191413  2647901.85579611  3495548.27862767  5250021.92896014\n",
      "  7555724.68022917  3204160.84591757  2806807.06746326  6604581.83381901\n",
      "  7620933.24026194  6121039.16548282  8412787.40855727  3118316.38606344\n",
      "  3542392.49743684  6931387.6293577 ]\n"
     ]
    }
   ],
   "source": [
    "print( ypred_m1 )"
   ]
  },
  {
   "cell_type": "code",
   "execution_count": 40,
   "id": "5a49f30e",
   "metadata": {},
   "outputs": [],
   "source": [
    "import warnings\n",
    "warnings.filterwarnings('ignore')\n",
    "\n",
    "import ipywidgets as widgets\n",
    "from IPython.display import display, clear_output"
   ]
  },
  {
   "cell_type": "code",
   "execution_count": 41,
   "id": "17efdf8b",
   "metadata": {},
   "outputs": [],
   "source": [
    "# Image Widget\n",
    "\n",
    "file = open(\"house.jpg\", \"rb\")\n",
    "image = file.read()\n",
    "\n",
    "image_headline = widgets.Image(\n",
    "                    value=image,\n",
    "                    format='jpg',\n",
    "                    width='900'\n",
    "                )\n",
    "label_headline = widgets.Label(\n",
    "                    value='Photo by CDC on Unsplash',\n",
    "                    style={'description_width': 'initial'}\n",
    "                )\n",
    "\n",
    "\n",
    "vbox_headline = widgets.VBox([image_headline, label_headline])"
   ]
  },
  {
   "cell_type": "code",
   "execution_count": 42,
   "id": "707d3fe4",
   "metadata": {},
   "outputs": [],
   "source": [
    "Area = widgets.Text()\n",
    "\n",
    "\n"
   ]
  },
  {
   "cell_type": "code",
   "execution_count": 43,
   "id": "41d78a5d",
   "metadata": {},
   "outputs": [],
   "source": [
    "bedrooms = widgets.Dropdown(options= ['',1,2,3,4,5,6],disbaled =False)\n",
    "\n"
   ]
  },
  {
   "cell_type": "code",
   "execution_count": 44,
   "id": "c05d006b",
   "metadata": {},
   "outputs": [],
   "source": [
    "bathrooms=  widgets.Dropdown(options= ['',1,2,3,4],disbaled =False)\n",
    "\n"
   ]
  },
  {
   "cell_type": "code",
   "execution_count": 45,
   "id": "7e8ee253",
   "metadata": {},
   "outputs": [],
   "source": [
    "stories= widgets.Dropdown(options= ['',1,2,3,4],disbaled =False)\n",
    "\n"
   ]
  },
  {
   "cell_type": "code",
   "execution_count": 46,
   "id": "f443ec4b",
   "metadata": {},
   "outputs": [],
   "source": [
    "mainroad = widgets.Dropdown(options= ['',\"YES\",\"NO\"],disbaled =False)\n",
    "\n"
   ]
  },
  {
   "cell_type": "code",
   "execution_count": 47,
   "id": "1feb2388",
   "metadata": {},
   "outputs": [],
   "source": [
    "guestroom =  widgets.Dropdown(options= ['',\"YES\",\"NO\"],disbaled =False)\n",
    "\n"
   ]
  },
  {
   "cell_type": "code",
   "execution_count": 48,
   "id": "6dec0e02",
   "metadata": {},
   "outputs": [],
   "source": [
    "basement =  widgets.Dropdown(options= ['',\"YES\",\"NO\"],disbaled =False)\n"
   ]
  },
  {
   "cell_type": "code",
   "execution_count": 49,
   "id": "bcc4d76d",
   "metadata": {},
   "outputs": [],
   "source": [
    "hotwaterheating = widgets.Dropdown(options= ['',\"YES\",\"NO\"],disbaled =False)\n",
    "\n"
   ]
  },
  {
   "cell_type": "code",
   "execution_count": 50,
   "id": "440c7c74",
   "metadata": {},
   "outputs": [],
   "source": [
    "airconditioning =  widgets.Dropdown(options= ['',\"YES\",\"NO\"],disbaled =False)\n",
    "\n"
   ]
  },
  {
   "cell_type": "code",
   "execution_count": 51,
   "id": "98332fc3",
   "metadata": {},
   "outputs": [],
   "source": [
    "parking =  widgets.Dropdown(options= ['',\"YES\",\"NO\"],disbaled =False)\n",
    "\n"
   ]
  },
  {
   "cell_type": "code",
   "execution_count": 52,
   "id": "7700c47a",
   "metadata": {},
   "outputs": [],
   "source": [
    "prefarea=  widgets.Dropdown(options= ['',\"YES\",\"NO\"],disbaled =False)\n",
    "\n"
   ]
  },
  {
   "cell_type": "code",
   "execution_count": 53,
   "id": "f5c81125",
   "metadata": {},
   "outputs": [],
   "source": [
    "furnishing_status =  widgets.Dropdown(options= ['',\"semi-furnished\",\"unfurnished\",\"furnished\"],disbaled =False)\n",
    "\n"
   ]
  },
  {
   "cell_type": "code",
   "execution_count": 54,
   "id": "a5fc89be",
   "metadata": {},
   "outputs": [],
   "source": [
    "access_to_shopping_malls =  widgets.Dropdown(options= ['',1,2,3,4,5,6,7,8,9],description=' NUMBER OF SHOPING MALLS NEARBY',disbaled =False)\n"
   ]
  },
  {
   "cell_type": "code",
   "execution_count": 55,
   "id": "098a5c5e",
   "metadata": {},
   "outputs": [],
   "source": [
    "access_to_school =  widgets.Dropdown(options= ['',1,2,3,4,5,6,7,8,9],description=' NUMBER OF SCHOOLS NEARBY',disbaled =False)\n"
   ]
  },
  {
   "cell_type": "code",
   "execution_count": 56,
   "id": "4b206007",
   "metadata": {},
   "outputs": [],
   "source": [
    "hospital_nearby = widgets.Dropdown(options= ['',1,2,3,4,5,6,7,8,9],description=' NUMBER OF HOSPITALS NEARBY',disbaled =False)\n",
    " "
   ]
  },
  {
   "cell_type": "code",
   "execution_count": 57,
   "id": "de483b6d",
   "metadata": {},
   "outputs": [],
   "source": [
    "restuarant_nearby = widgets.Dropdown(options= ['',1,2,3,4,5,6,7,8,9],description=' NUMBER OF RESTUARANTS NEARBY',disbaled =False)\n"
   ]
  },
  {
   "cell_type": "code",
   "execution_count": 58,
   "id": "427a6848",
   "metadata": {},
   "outputs": [],
   "source": [
    "p=restuarant_nearby .value"
   ]
  },
  {
   "cell_type": "code",
   "execution_count": 59,
   "id": "0be7dd7e",
   "metadata": {},
   "outputs": [],
   "source": [
    "Property_age_housin = widgets.Dropdown(options= ['',1,2,3,4,5,6,7,8,9],description='APPROXIMATE PROPERTY AGE',disbaled =False)\n"
   ]
  },
  {
   "cell_type": "code",
   "execution_count": 60,
   "id": "0063851f",
   "metadata": {},
   "outputs": [],
   "source": [
    "place_of_worship = widgets.Dropdown(options= ['',1,2,3,4,5,6,7,8,9],description=' PLACES OF WORSHIP NEARBY',disbaled =False)\n"
   ]
  },
  {
   "cell_type": "code",
   "execution_count": 61,
   "id": "571e5674",
   "metadata": {},
   "outputs": [],
   "source": [
    "crimerates = widgets.Dropdown(options= ['',\"high\",\"low\"],disbaled =False)\n"
   ]
  },
  {
   "cell_type": "code",
   "execution_count": 62,
   "id": "19deb9c7",
   "metadata": {},
   "outputs": [],
   "source": [
    "text_0 = widgets.HTML(value=\"<h1>ENTER PROPER VALUES FOR PREDICTION</h1>\")\n",
    "text_1 = widgets.HTML(value=\"<h2>SPECIFY AREA</h2>\")\n",
    "text_2= widgets.HTML(value=\"<h2>SPECIFY NO OF BEDROOMS</h2>\")\n",
    "text_3= widgets.HTML(value=\"<h2>SPECIFY NO OF BATHROOMS</h2>\")\n",
    "text_4= widgets.HTML(value=\"<h2>SPECIFY NO OF STORIES </h2>\")\n",
    "text_5 = widgets.HTML(value=\"<h2>ACCESS TO MAIN ROAD</h2>\")\n",
    "text_6 = widgets.HTML(value=\"<h2>GUEST ROOM</h2>\")\n",
    "text_7= widgets.HTML(value=\"<h2> BASEMENT </h2>\")\n",
    "text_8= widgets.HTML(value=\"<h2> HOT WATER HEATING </h2>\")\n",
    "text_9= widgets.HTML(value=\"<h2> AIR CONDITIONING </h2>\")\n",
    "text_10= widgets.HTML(value=\"<h2> PARKING </h2>\")\n",
    "text_11= widgets.HTML(value=\"<h2> PREFERANCE </h2>\")\n",
    "text_12= widgets.HTML(value=\"<h2> FURNISHING STATUS</h2>\")\n",
    "text_13= widgets.HTML(value=\"<h2> ACCESS TO SHOPING MALL </h2>\")\n",
    "text_14= widgets.HTML(value=\"<h2> ACCESS TO SCHOOL</h2>\")\n",
    "text_15= widgets.HTML(value=\"<h2> NUMBER OF HOSPITALS NEARBY HOSPITAL NEARBY </h2>\")\n",
    "text_16= widgets.HTML(value=\"<h2> NUMBER OF RESTAURANT NERARBY </h2>\")\n",
    "text_17= widgets.HTML(value=\"<h2>APRROXIMATE AGE OF PROPERTY  </h2>\")\n",
    "text_18= widgets.HTML(value=\"<h2> CRIMERATER IN THE AREA</h2>\")\n",
    "text_19= widgets.HTML(value=\"<h2> PLACES OF WORSHIP NEARBY</h2>\")\n",
    "\n",
    "\n"
   ]
  },
  {
   "cell_type": "code",
   "execution_count": 71,
   "id": "3117573e",
   "metadata": {},
   "outputs": [],
   "source": [
    "button_send = widgets.Button(\n",
    "                description='PREDICT PRICE',\n",
    "                tooltip='Send',\n",
    "                style={'description_width': 'initial'}\n",
    "            )\n",
    "\n",
    "output = widgets.Output()\n",
    "\n",
    "def on_button_clicked(event):\n",
    "    with output:\n",
    "        clear_output()\n",
    "        \n",
    "        a=(Area.value)\n",
    "        b=( bedrooms.value)\n",
    "        c=(bathrooms.value)\n",
    "        d=(stories.value)\n",
    "        if mainroad.value == \"YES\":\n",
    "            e=1\n",
    "        else :\n",
    "            e=0\n",
    "        if guestroom.value == \"YES\":\n",
    "            f=1\n",
    "        else :\n",
    "            f=0\n",
    "        if basement.value == \"YES\":\n",
    "            g=1\n",
    "        else :\n",
    "            g=0 \n",
    "        if hotwaterheating.value == \"YES\":\n",
    "            h=1\n",
    "        else :\n",
    "            h=0\n",
    "        if airconditioning.value == \"YES\":\n",
    "            i=1\n",
    "        else :\n",
    "            i=0\n",
    "        if parking.value == \"YES\":\n",
    "            j=1\n",
    "        else :\n",
    "            j=0\n",
    "        if prefarea.value == \"YES\":\n",
    "            k=1\n",
    "        else :\n",
    "            k=0\n",
    "        if furnishing_status.value == \"semi-furnished\":\n",
    "            l=1\n",
    "        elif  furnishing_status.value == \"unfurnished\":\n",
    "            l=2\n",
    "        else:\n",
    "            l=0\n",
    "            furnishing_status.value= \"furnished\"\n",
    "        m = (access_to_shopping_malls.value)\n",
    "        n = access_to_school.value\n",
    "        o= hospital_nearby.value\n",
    "        p=restuarant_nearby .value\n",
    "        q = Property_age_housin.value\n",
    "        if crimerates.value == \"low\":\n",
    "            r=1\n",
    "        else :\n",
    "            r=0\n",
    "        s = place_of_worship.value\n",
    "        print(\"The area of the selected house is \", a,\"squrt\")\n",
    "        print(\"Number of bedrooms is \",b)\n",
    "        print(\"it has\",c,\"bathrooms\")\n",
    "        print(\"It is \",d,\"high\")\n",
    "        print(\"Is the house close to the main road?=\",mainroad.value)\n",
    "        print(\"does the house have a guestroom?=\",guestroom.value)\n",
    "        print(\"Does the house have a basement?=\",basement.value)\n",
    "        print(\"Does the house have a hot water heating system?= \",hotwaterheating.value )\n",
    "        print(\"Does the house have a air conditioning system?=\",airconditioning.value)\n",
    "        print(\"Does the house have a parking area?=\",parking.value)\n",
    "        print(\"Build your preferance area\", prefarea.value)\n",
    "        print(\"furnishing status of the house=\",furnishing_status.value)\n",
    "        print(\"Amount of shopping malls nearby=\",m)\n",
    "        print(\"number of hospitals nearby=\",n)\n",
    "        print(\"hospitals nearby=\",o)\n",
    "        print('restuarants nearby=',p)\n",
    "        print(\"The property is\",q,\"years old\")\n",
    "        print(\"crime rates are\",place_of_worship.value)\n",
    "        print(\"places of worship nearby=\",s)\n",
    "        b1=[a,b,c,d,e,f,g,h,i,j,k,l,m,n,o,p,q,r,s]\n",
    "        b2=np.array(b1,dtype=float)\n",
    "        ypred_m1 = m1.predict([b2])\n",
    "        price_predicted=int(ypred_m1)\n",
    "        print(\"price predicted=\",price_predicted)\n",
    "\n",
    "button_send.on_click(on_button_clicked)\n",
    "\n",
    "vbox_result = widgets.VBox([button_send, output])"
   ]
  },
  {
   "cell_type": "code",
   "execution_count": 72,
   "id": "066a7400",
   "metadata": {},
   "outputs": [],
   "source": [
    "vbox_text = widgets.VBox([text_0,text_1,Area, text_2,bedrooms,text_3, bathrooms ,text_4, stories ,text_5, mainroad,text_6, guestroom,\n",
    "      text_7, basement,text_8, hotwaterheating,text_9,airconditioning,text_10, parking, text_11,prefarea,text_12,\n",
    "       furnishing_status, text_13,access_to_shopping_malls, text_14,access_to_school,text_15,\n",
    "       hospital_nearby,text_16,restuarant_nearby,text_17, Property_age_housin,text_18,\n",
    "        crimerates,text_19, place_of_worship,vbox_result])"
   ]
  },
  {
   "cell_type": "code",
   "execution_count": 1,
   "id": "2ec04b1c",
   "metadata": {},
   "outputs": [
    {
     "ename": "NameError",
     "evalue": "name 'widgets' is not defined",
     "output_type": "error",
     "traceback": [
      "\u001b[1;31m---------------------------------------------------------------------------\u001b[0m",
      "\u001b[1;31mNameError\u001b[0m                                 Traceback (most recent call last)",
      "Input \u001b[1;32mIn [1]\u001b[0m, in \u001b[0;36m<cell line: 1>\u001b[1;34m()\u001b[0m\n\u001b[1;32m----> 1\u001b[0m page \u001b[38;5;241m=\u001b[39m \u001b[43mwidgets\u001b[49m\u001b[38;5;241m.\u001b[39mVBox([vbox_headline,vbox_text])\n\u001b[0;32m      2\u001b[0m display(page)\n",
      "\u001b[1;31mNameError\u001b[0m: name 'widgets' is not defined"
     ]
    }
   ],
   "source": [
    "page = widgets.VBox([vbox_headline,vbox_text])\n",
    "display(page)"
   ]
  },
  {
   "cell_type": "code",
   "execution_count": null,
   "id": "774e94be",
   "metadata": {},
   "outputs": [],
   "source": []
  },
  {
   "cell_type": "code",
   "execution_count": null,
   "id": "bf8cad4d",
   "metadata": {},
   "outputs": [],
   "source": []
  },
  {
   "cell_type": "code",
   "execution_count": null,
   "id": "574dd6e2",
   "metadata": {},
   "outputs": [],
   "source": []
  }
 ],
 "metadata": {
  "kernelspec": {
   "display_name": "Python 3 (ipykernel)",
   "language": "python",
   "name": "python3"
  },
  "language_info": {
   "codemirror_mode": {
    "name": "ipython",
    "version": 3
   },
   "file_extension": ".py",
   "mimetype": "text/x-python",
   "name": "python",
   "nbconvert_exporter": "python",
   "pygments_lexer": "ipython3",
   "version": "3.9.13"
  }
 },
 "nbformat": 4,
 "nbformat_minor": 5
}
