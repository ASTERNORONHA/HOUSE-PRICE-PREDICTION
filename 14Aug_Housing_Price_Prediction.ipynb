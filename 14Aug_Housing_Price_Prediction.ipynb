{
 "cells": [
  {
   "cell_type": "code",
   "execution_count": 237,
   "id": "6fbc7fd4",
   "metadata": {},
   "outputs": [],
   "source": [
    "import pandas as pd\n",
    "import numpy as np\n",
    "import matplotlib.pyplot as plt"
   ]
  },
  {
   "cell_type": "code",
   "execution_count": 238,
   "id": "7e265481",
   "metadata": {},
   "outputs": [
    {
     "data": {
      "text/html": [
       "<div>\n",
       "<style scoped>\n",
       "    .dataframe tbody tr th:only-of-type {\n",
       "        vertical-align: middle;\n",
       "    }\n",
       "\n",
       "    .dataframe tbody tr th {\n",
       "        vertical-align: top;\n",
       "    }\n",
       "\n",
       "    .dataframe thead th {\n",
       "        text-align: right;\n",
       "    }\n",
       "</style>\n",
       "<table border=\"1\" class=\"dataframe\">\n",
       "  <thead>\n",
       "    <tr style=\"text-align: right;\">\n",
       "      <th></th>\n",
       "      <th>price</th>\n",
       "      <th>area</th>\n",
       "      <th>bedrooms</th>\n",
       "      <th>bathrooms</th>\n",
       "      <th>stories</th>\n",
       "      <th>mainroad</th>\n",
       "      <th>guestroom</th>\n",
       "      <th>basement</th>\n",
       "      <th>hotwaterheating</th>\n",
       "      <th>airconditioning</th>\n",
       "      <th>parking</th>\n",
       "      <th>prefarea</th>\n",
       "      <th>furnishingstatus</th>\n",
       "      <th>Access to shopping malls</th>\n",
       "      <th>access to schools</th>\n",
       "      <th>hospitals nearby</th>\n",
       "      <th>restuarants nearby</th>\n",
       "      <th>Property age housin</th>\n",
       "      <th>crimerates</th>\n",
       "      <th>place of worship</th>\n",
       "    </tr>\n",
       "  </thead>\n",
       "  <tbody>\n",
       "    <tr>\n",
       "      <th>0</th>\n",
       "      <td>13300000</td>\n",
       "      <td>7420</td>\n",
       "      <td>4</td>\n",
       "      <td>2</td>\n",
       "      <td>3</td>\n",
       "      <td>yes</td>\n",
       "      <td>no</td>\n",
       "      <td>no</td>\n",
       "      <td>no</td>\n",
       "      <td>yes</td>\n",
       "      <td>2</td>\n",
       "      <td>yes</td>\n",
       "      <td>furnished</td>\n",
       "      <td>5</td>\n",
       "      <td>9</td>\n",
       "      <td>7</td>\n",
       "      <td>7</td>\n",
       "      <td>2</td>\n",
       "      <td>low</td>\n",
       "      <td>4</td>\n",
       "    </tr>\n",
       "    <tr>\n",
       "      <th>1</th>\n",
       "      <td>12250000</td>\n",
       "      <td>8960</td>\n",
       "      <td>4</td>\n",
       "      <td>4</td>\n",
       "      <td>4</td>\n",
       "      <td>yes</td>\n",
       "      <td>no</td>\n",
       "      <td>no</td>\n",
       "      <td>no</td>\n",
       "      <td>yes</td>\n",
       "      <td>3</td>\n",
       "      <td>no</td>\n",
       "      <td>furnished</td>\n",
       "      <td>5</td>\n",
       "      <td>8</td>\n",
       "      <td>6</td>\n",
       "      <td>7</td>\n",
       "      <td>3</td>\n",
       "      <td>high</td>\n",
       "      <td>6</td>\n",
       "    </tr>\n",
       "    <tr>\n",
       "      <th>2</th>\n",
       "      <td>12250000</td>\n",
       "      <td>9960</td>\n",
       "      <td>3</td>\n",
       "      <td>2</td>\n",
       "      <td>2</td>\n",
       "      <td>yes</td>\n",
       "      <td>no</td>\n",
       "      <td>yes</td>\n",
       "      <td>no</td>\n",
       "      <td>no</td>\n",
       "      <td>2</td>\n",
       "      <td>yes</td>\n",
       "      <td>semi-furnished</td>\n",
       "      <td>4</td>\n",
       "      <td>9</td>\n",
       "      <td>9</td>\n",
       "      <td>8</td>\n",
       "      <td>2</td>\n",
       "      <td>low</td>\n",
       "      <td>9</td>\n",
       "    </tr>\n",
       "    <tr>\n",
       "      <th>3</th>\n",
       "      <td>12215000</td>\n",
       "      <td>7500</td>\n",
       "      <td>4</td>\n",
       "      <td>2</td>\n",
       "      <td>2</td>\n",
       "      <td>yes</td>\n",
       "      <td>no</td>\n",
       "      <td>yes</td>\n",
       "      <td>no</td>\n",
       "      <td>yes</td>\n",
       "      <td>3</td>\n",
       "      <td>yes</td>\n",
       "      <td>furnished</td>\n",
       "      <td>1</td>\n",
       "      <td>4</td>\n",
       "      <td>9</td>\n",
       "      <td>4</td>\n",
       "      <td>3</td>\n",
       "      <td>high</td>\n",
       "      <td>7</td>\n",
       "    </tr>\n",
       "    <tr>\n",
       "      <th>4</th>\n",
       "      <td>11410000</td>\n",
       "      <td>7420</td>\n",
       "      <td>4</td>\n",
       "      <td>1</td>\n",
       "      <td>2</td>\n",
       "      <td>yes</td>\n",
       "      <td>yes</td>\n",
       "      <td>yes</td>\n",
       "      <td>no</td>\n",
       "      <td>yes</td>\n",
       "      <td>2</td>\n",
       "      <td>no</td>\n",
       "      <td>furnished</td>\n",
       "      <td>6</td>\n",
       "      <td>4</td>\n",
       "      <td>4</td>\n",
       "      <td>6</td>\n",
       "      <td>2</td>\n",
       "      <td>high</td>\n",
       "      <td>7</td>\n",
       "    </tr>\n",
       "  </tbody>\n",
       "</table>\n",
       "</div>"
      ],
      "text/plain": [
       "      price  area  bedrooms  bathrooms  stories mainroad guestroom basement  \\\n",
       "0  13300000  7420         4          2        3      yes        no       no   \n",
       "1  12250000  8960         4          4        4      yes        no       no   \n",
       "2  12250000  9960         3          2        2      yes        no      yes   \n",
       "3  12215000  7500         4          2        2      yes        no      yes   \n",
       "4  11410000  7420         4          1        2      yes       yes      yes   \n",
       "\n",
       "  hotwaterheating airconditioning  parking prefarea furnishingstatus  \\\n",
       "0              no             yes        2      yes        furnished   \n",
       "1              no             yes        3       no        furnished   \n",
       "2              no              no        2      yes   semi-furnished   \n",
       "3              no             yes        3      yes        furnished   \n",
       "4              no             yes        2       no        furnished   \n",
       "\n",
       "   Access to shopping malls  access to schools  hospitals nearby  \\\n",
       "0                         5                  9                 7   \n",
       "1                         5                  8                 6   \n",
       "2                         4                  9                 9   \n",
       "3                         1                  4                 9   \n",
       "4                         6                  4                 4   \n",
       "\n",
       "   restuarants nearby  Property age housin crimerates  place of worship  \n",
       "0                   7                    2       low                  4  \n",
       "1                   7                    3       high                 6  \n",
       "2                   8                    2       low                  9  \n",
       "3                   4                    3       high                 7  \n",
       "4                   6                    2       high                 7  "
      ]
     },
     "execution_count": 238,
     "metadata": {},
     "output_type": "execute_result"
    }
   ],
   "source": [
    "df = pd.read_csv('Housing 1.csv')\n",
    "df.head()"
   ]
  },
  {
   "cell_type": "code",
   "execution_count": 239,
   "id": "9c2c5f5d",
   "metadata": {},
   "outputs": [
    {
     "data": {
      "text/plain": [
       "(545, 20)"
      ]
     },
     "execution_count": 239,
     "metadata": {},
     "output_type": "execute_result"
    }
   ],
   "source": [
    "df.shape"
   ]
  },
  {
   "cell_type": "code",
   "execution_count": 240,
   "id": "7a4c0184",
   "metadata": {},
   "outputs": [
    {
     "data": {
      "text/plain": [
       "price                       0\n",
       "area                        0\n",
       "bedrooms                    0\n",
       "bathrooms                   0\n",
       "stories                     0\n",
       "mainroad                    0\n",
       "guestroom                   0\n",
       "basement                    0\n",
       "hotwaterheating             0\n",
       "airconditioning             0\n",
       "parking                     0\n",
       "prefarea                    0\n",
       "furnishingstatus            0\n",
       "Access to shopping malls    0\n",
       "access to schools           0\n",
       "hospitals nearby            0\n",
       "restuarants nearby          0\n",
       "Property age housin         0\n",
       "crimerates                  0\n",
       "place of worship            0\n",
       "dtype: int64"
      ]
     },
     "execution_count": 240,
     "metadata": {},
     "output_type": "execute_result"
    }
   ],
   "source": [
    "df.isnull().sum()"
   ]
  },
  {
   "cell_type": "code",
   "execution_count": 241,
   "id": "0683a949",
   "metadata": {},
   "outputs": [
    {
     "data": {
      "text/plain": [
       "price                        int64\n",
       "area                         int64\n",
       "bedrooms                     int64\n",
       "bathrooms                    int64\n",
       "stories                      int64\n",
       "mainroad                    object\n",
       "guestroom                   object\n",
       "basement                    object\n",
       "hotwaterheating             object\n",
       "airconditioning             object\n",
       "parking                      int64\n",
       "prefarea                    object\n",
       "furnishingstatus            object\n",
       "Access to shopping malls     int64\n",
       "access to schools            int64\n",
       "hospitals nearby             int64\n",
       "restuarants nearby           int64\n",
       "Property age housin          int64\n",
       "crimerates                  object\n",
       "place of worship             int64\n",
       "dtype: object"
      ]
     },
     "execution_count": 241,
     "metadata": {},
     "output_type": "execute_result"
    }
   ],
   "source": [
    "df.dtypes"
   ]
  },
  {
   "cell_type": "code",
   "execution_count": 242,
   "id": "71b83d94",
   "metadata": {},
   "outputs": [
    {
     "data": {
      "text/plain": [
       "yes    468\n",
       "no      77\n",
       "Name: mainroad, dtype: int64"
      ]
     },
     "execution_count": 242,
     "metadata": {},
     "output_type": "execute_result"
    }
   ],
   "source": [
    "df['mainroad'].value_counts()"
   ]
  },
  {
   "cell_type": "code",
   "execution_count": 243,
   "id": "b95c76fe",
   "metadata": {},
   "outputs": [
    {
     "data": {
      "text/plain": [
       "no     448\n",
       "yes     97\n",
       "Name: guestroom, dtype: int64"
      ]
     },
     "execution_count": 243,
     "metadata": {},
     "output_type": "execute_result"
    }
   ],
   "source": [
    "df['guestroom'].value_counts()"
   ]
  },
  {
   "cell_type": "code",
   "execution_count": 244,
   "id": "ffe4d89d",
   "metadata": {},
   "outputs": [
    {
     "data": {
      "text/plain": [
       "no     354\n",
       "yes    191\n",
       "Name: basement, dtype: int64"
      ]
     },
     "execution_count": 244,
     "metadata": {},
     "output_type": "execute_result"
    }
   ],
   "source": [
    "df['basement'].value_counts()"
   ]
  },
  {
   "cell_type": "code",
   "execution_count": 245,
   "id": "2fae527a",
   "metadata": {},
   "outputs": [
    {
     "data": {
      "text/plain": [
       "no     520\n",
       "yes     25\n",
       "Name: hotwaterheating, dtype: int64"
      ]
     },
     "execution_count": 245,
     "metadata": {},
     "output_type": "execute_result"
    }
   ],
   "source": [
    "df['hotwaterheating'].value_counts()     "
   ]
  },
  {
   "cell_type": "code",
   "execution_count": 246,
   "id": "fa2ba4a3",
   "metadata": {},
   "outputs": [
    {
     "data": {
      "text/plain": [
       "no     373\n",
       "yes    172\n",
       "Name: airconditioning, dtype: int64"
      ]
     },
     "execution_count": 246,
     "metadata": {},
     "output_type": "execute_result"
    }
   ],
   "source": [
    "df['airconditioning'].value_counts()     "
   ]
  },
  {
   "cell_type": "code",
   "execution_count": 247,
   "id": "f7bfe9b0",
   "metadata": {},
   "outputs": [
    {
     "data": {
      "text/plain": [
       "no     417\n",
       "yes    128\n",
       "Name: prefarea, dtype: int64"
      ]
     },
     "execution_count": 247,
     "metadata": {},
     "output_type": "execute_result"
    }
   ],
   "source": [
    "df['prefarea'].value_counts()     "
   ]
  },
  {
   "cell_type": "code",
   "execution_count": 248,
   "id": "51bd7a69",
   "metadata": {},
   "outputs": [
    {
     "data": {
      "text/plain": [
       "semi-furnished    227\n",
       "unfurnished       178\n",
       "furnished         140\n",
       "Name: furnishingstatus, dtype: int64"
      ]
     },
     "execution_count": 248,
     "metadata": {},
     "output_type": "execute_result"
    }
   ],
   "source": [
    "df['furnishingstatus'].value_counts()     "
   ]
  },
  {
   "cell_type": "code",
   "execution_count": 249,
   "id": "e539d9fa",
   "metadata": {},
   "outputs": [
    {
     "data": {
      "text/plain": [
       "low     321\n",
       "high    224\n",
       "Name: crimerates, dtype: int64"
      ]
     },
     "execution_count": 249,
     "metadata": {},
     "output_type": "execute_result"
    }
   ],
   "source": [
    "df['crimerates'].value_counts()"
   ]
  },
  {
   "cell_type": "code",
   "execution_count": 250,
   "id": "bc4fc9db",
   "metadata": {},
   "outputs": [],
   "source": [
    "from sklearn.preprocessing import LabelEncoder"
   ]
  },
  {
   "cell_type": "code",
   "execution_count": 251,
   "id": "32bdede3",
   "metadata": {},
   "outputs": [],
   "source": [
    "lb = LabelEncoder()\n",
    "df['mainroad'] = lb.fit_transform(df['mainroad'])\n",
    "df['guestroom'] = lb.fit_transform(df['guestroom'])\n",
    "df['basement'] = lb.fit_transform(df['basement'])\n",
    "df['hotwaterheating'] = lb.fit_transform(df['hotwaterheating'])\n",
    "df['airconditioning'] = lb.fit_transform(df['airconditioning'])\n",
    "df['prefarea'] = lb.fit_transform(df['prefarea'])\n",
    "df['furnishingstatus'] = lb.fit_transform(df['furnishingstatus'])\n",
    "df['crimerates'] = lb.fit_transform(df['crimerates'])"
   ]
  },
  {
   "cell_type": "code",
   "execution_count": 252,
   "id": "51983b51",
   "metadata": {},
   "outputs": [
    {
     "data": {
      "text/plain": [
       "1    468\n",
       "0     77\n",
       "Name: mainroad, dtype: int64"
      ]
     },
     "execution_count": 252,
     "metadata": {},
     "output_type": "execute_result"
    }
   ],
   "source": [
    "df['mainroad'].value_counts()\n",
    "# yes    468\n",
    "# no      77"
   ]
  },
  {
   "cell_type": "code",
   "execution_count": 253,
   "id": "39014410",
   "metadata": {},
   "outputs": [
    {
     "data": {
      "text/plain": [
       "0    448\n",
       "1     97\n",
       "Name: guestroom, dtype: int64"
      ]
     },
     "execution_count": 253,
     "metadata": {},
     "output_type": "execute_result"
    }
   ],
   "source": [
    "df['guestroom'].value_counts()\n",
    "# no     448\n",
    "# yes     97"
   ]
  },
  {
   "cell_type": "code",
   "execution_count": 254,
   "id": "1455c51b",
   "metadata": {},
   "outputs": [
    {
     "data": {
      "text/plain": [
       "0    354\n",
       "1    191\n",
       "Name: basement, dtype: int64"
      ]
     },
     "execution_count": 254,
     "metadata": {},
     "output_type": "execute_result"
    }
   ],
   "source": [
    "df['basement'].value_counts()\n",
    "# no     354\n",
    "# yes    191"
   ]
  },
  {
   "cell_type": "code",
   "execution_count": 255,
   "id": "92d4ada3",
   "metadata": {},
   "outputs": [
    {
     "data": {
      "text/plain": [
       "0    520\n",
       "1     25\n",
       "Name: hotwaterheating, dtype: int64"
      ]
     },
     "execution_count": 255,
     "metadata": {},
     "output_type": "execute_result"
    }
   ],
   "source": [
    "df['hotwaterheating'].value_counts()\n",
    "# no     520\n",
    "# yes     25"
   ]
  },
  {
   "cell_type": "code",
   "execution_count": 256,
   "id": "554aaf52",
   "metadata": {},
   "outputs": [
    {
     "data": {
      "text/plain": [
       "0    373\n",
       "1    172\n",
       "Name: airconditioning, dtype: int64"
      ]
     },
     "execution_count": 256,
     "metadata": {},
     "output_type": "execute_result"
    }
   ],
   "source": [
    "df['airconditioning'].value_counts()\n",
    "# no     373\n",
    "# yes    172"
   ]
  },
  {
   "cell_type": "code",
   "execution_count": 257,
   "id": "e8d1171b",
   "metadata": {},
   "outputs": [
    {
     "data": {
      "text/plain": [
       "0    417\n",
       "1    128\n",
       "Name: prefarea, dtype: int64"
      ]
     },
     "execution_count": 257,
     "metadata": {},
     "output_type": "execute_result"
    }
   ],
   "source": [
    "df['prefarea'].value_counts()\n",
    "# no     417\n",
    "# yes    128"
   ]
  },
  {
   "cell_type": "code",
   "execution_count": 258,
   "id": "6e1b8c1c",
   "metadata": {},
   "outputs": [
    {
     "data": {
      "text/plain": [
       "1    227\n",
       "2    178\n",
       "0    140\n",
       "Name: furnishingstatus, dtype: int64"
      ]
     },
     "execution_count": 258,
     "metadata": {},
     "output_type": "execute_result"
    }
   ],
   "source": [
    "df['furnishingstatus'].value_counts()\n",
    "# semi-furnished    227\n",
    "# unfurnished       178\n",
    "# furnished         140"
   ]
  },
  {
   "cell_type": "code",
   "execution_count": 259,
   "id": "c4317292",
   "metadata": {},
   "outputs": [
    {
     "data": {
      "text/plain": [
       "1    321\n",
       "0    224\n",
       "Name: crimerates, dtype: int64"
      ]
     },
     "execution_count": 259,
     "metadata": {},
     "output_type": "execute_result"
    }
   ],
   "source": [
    "df['crimerates'].value_counts()"
   ]
  },
  {
   "cell_type": "code",
   "execution_count": 260,
   "id": "547bbe66",
   "metadata": {},
   "outputs": [
    {
     "data": {
      "text/plain": [
       "price                       int64\n",
       "area                        int64\n",
       "bedrooms                    int64\n",
       "bathrooms                   int64\n",
       "stories                     int64\n",
       "mainroad                    int32\n",
       "guestroom                   int32\n",
       "basement                    int32\n",
       "hotwaterheating             int32\n",
       "airconditioning             int32\n",
       "parking                     int64\n",
       "prefarea                    int32\n",
       "furnishingstatus            int32\n",
       "Access to shopping malls    int64\n",
       "access to schools           int64\n",
       "hospitals nearby            int64\n",
       "restuarants nearby          int64\n",
       "Property age housin         int64\n",
       "crimerates                  int32\n",
       "place of worship            int64\n",
       "dtype: object"
      ]
     },
     "execution_count": 260,
     "metadata": {},
     "output_type": "execute_result"
    }
   ],
   "source": [
    "df.dtypes"
   ]
  },
  {
   "cell_type": "code",
   "execution_count": 261,
   "id": "24952f7d",
   "metadata": {},
   "outputs": [
    {
     "data": {
      "text/plain": [
       "0"
      ]
     },
     "execution_count": 261,
     "metadata": {},
     "output_type": "execute_result"
    }
   ],
   "source": [
    "df.duplicated().sum()"
   ]
  },
  {
   "cell_type": "code",
   "execution_count": 262,
   "id": "c924fda4",
   "metadata": {},
   "outputs": [
    {
     "name": "stdout",
     "output_type": "stream",
     "text": [
      "<class 'pandas.core.frame.DataFrame'>\n",
      "<class 'pandas.core.series.Series'>\n",
      "(545, 19)\n",
      "(545,)\n"
     ]
    },
    {
     "data": {
      "text/plain": [
       "Index(['area', 'bedrooms', 'bathrooms', 'stories', 'mainroad', 'guestroom',\n",
       "       'basement', 'hotwaterheating', 'airconditioning', 'parking', 'prefarea',\n",
       "       'furnishingstatus', 'Access to shopping malls', 'access to schools',\n",
       "       'hospitals nearby', 'restuarants nearby', 'Property age housin',\n",
       "       'crimerates', 'place of worship'],\n",
       "      dtype='object')"
      ]
     },
     "execution_count": 262,
     "metadata": {},
     "output_type": "execute_result"
    }
   ],
   "source": [
    "x = df.drop('price',axis=1)\n",
    "y = df['price']\n",
    "print(type(x))\n",
    "print(type(y))\n",
    "print(x.shape)\n",
    "print(y.shape)\n",
    "(x).columns"
   ]
  },
  {
   "cell_type": "code",
   "execution_count": 263,
   "id": "65a71f1c",
   "metadata": {},
   "outputs": [],
   "source": [
    "from sklearn.model_selection import train_test_split"
   ]
  },
  {
   "cell_type": "code",
   "execution_count": 264,
   "id": "d8d8325c",
   "metadata": {},
   "outputs": [
    {
     "name": "stdout",
     "output_type": "stream",
     "text": [
      "(218, 19)\n",
      "(327, 19)\n",
      "(218,)\n",
      "(327,)\n"
     ]
    }
   ],
   "source": [
    "x_train,x_test,y_train,y_test = train_test_split(x,y,test_size=0.60)\n",
    "print(x_train.shape)\n",
    "print(x_test.shape)\n",
    "print(y_train.shape)\n",
    "print(y_test.shape)"
   ]
  },
  {
   "cell_type": "markdown",
   "id": "cae810e7",
   "metadata": {},
   "source": [
    "#### Build the Model"
   ]
  },
  {
   "cell_type": "code",
   "execution_count": 265,
   "id": "72245416",
   "metadata": {},
   "outputs": [],
   "source": [
    "from sklearn.linear_model import LinearRegression\n",
    "from sklearn.tree import DecisionTreeRegressor\n",
    "from sklearn.ensemble import RandomForestRegressor\n",
    "from sklearn.neighbors import KNeighborsRegressor\n",
    "from sklearn.metrics import mean_squared_error,mean_absolute_error"
   ]
  },
  {
   "cell_type": "code",
   "execution_count": 266,
   "id": "0647b5a7",
   "metadata": {},
   "outputs": [],
   "source": [
    "def mscore(model):  # R2 score\n",
    "    print('Training score',model.score(x_train,y_train))\n",
    "    print('Testing score',model.score(x_test,y_test))\n",
    "    \n",
    "def gen_metrics(ytest,ypred):\n",
    "    mae = mean_absolute_error(ytest,ypred)\n",
    "    mse = mean_squared_error(ytest,ypred)\n",
    "    rmse = np.sqrt(mean_squared_error(ytest,ypred))\n",
    "    print('MAE',mae)\n",
    "    print('MSE',mse)\n",
    "    print('RMSE',rmse)"
   ]
  },
  {
   "cell_type": "markdown",
   "id": "fecb3f4b",
   "metadata": {},
   "source": [
    "### 1) LinearRegression"
   ]
  },
  {
   "cell_type": "code",
   "execution_count": 267,
   "id": "fa037b29",
   "metadata": {},
   "outputs": [
    {
     "data": {
      "text/plain": [
       "LinearRegression()"
      ]
     },
     "execution_count": 267,
     "metadata": {},
     "output_type": "execute_result"
    }
   ],
   "source": [
    "m1 = LinearRegression()\n",
    "m1.fit(x_train,y_train)"
   ]
  },
  {
   "cell_type": "code",
   "execution_count": 268,
   "id": "be2c2ce2",
   "metadata": {},
   "outputs": [
    {
     "name": "stdout",
     "output_type": "stream",
     "text": [
      "Training score 0.69216855767505\n",
      "Testing score 0.6720982967139105\n"
     ]
    }
   ],
   "source": [
    "mscore(m1)"
   ]
  },
  {
   "cell_type": "code",
   "execution_count": 273,
   "id": "aae92228",
   "metadata": {},
   "outputs": [],
   "source": [
    "ypred_m1 = m1.predict(x_test)"
   ]
  },
  {
   "cell_type": "code",
   "execution_count": 274,
   "id": "770f637a",
   "metadata": {},
   "outputs": [
    {
     "name": "stdout",
     "output_type": "stream",
     "text": [
      "MAE 798225.1646117999\n",
      "MSE 1129687707800.6873\n",
      "RMSE 1062867.6812288007\n"
     ]
    }
   ],
   "source": [
    "gen_metrics(y_test,ypred_m1)"
   ]
  },
  {
   "cell_type": "code",
   "execution_count": 275,
   "id": "c7db60a4",
   "metadata": {
    "scrolled": true
   },
   "outputs": [
    {
     "data": {
      "text/plain": [
       "<matplotlib.collections.PathCollection at 0x21e0f76e6a0>"
      ]
     },
     "execution_count": 275,
     "metadata": {},
     "output_type": "execute_result"
    },
    {
     "data": {
      "image/png": "[encoded data removed]",
      "text/plain": [
       "<Figure size 640x480 with 1 Axes>"
      ]
     },
     "metadata": {},
     "output_type": "display_data"
    }
   ],
   "source": [
    "plt.scatter(y_test,ypred_m1)"
   ]
  },
  {
   "cell_type": "code",
   "execution_count": 276,
   "id": "2c8af948",
   "metadata": {},
   "outputs": [
    {
     "ename": "SyntaxError",
     "evalue": "invalid syntax (3766774191.py, line 1)",
     "output_type": "error",
     "traceback": [
      "\u001b[1;36m  File \u001b[1;32m\"C:\\Users\\Aster\\AppData\\Local\\Temp\\ipykernel_15332\\3766774191.py\"\u001b[1;36m, line \u001b[1;32m1\u001b[0m\n\u001b[1;33m    def ypred_m1(['area', 'bedrooms', 'bathrooms', 'stories', 'mainroad', 'guestroom',\u001b[0m\n\u001b[1;37m                 ^\u001b[0m\n\u001b[1;31mSyntaxError\u001b[0m\u001b[1;31m:\u001b[0m invalid syntax\n"
     ]
    }
   ],
   "source": [
    "def ypred_m1(['area', 'bedrooms', 'bathrooms', 'stories', 'mainroad', 'guestroom',\n",
    "       'basement', 'hotwaterheating', 'airconditioning', 'parking', 'prefarea',\n",
    "       'furnishingstatus', 'Access to shopping malls', 'access to schools',\n",
    "       'hospitals nearby', 'restuarants nearby', 'Property age housin',\n",
    "       'crimerates', 'place of worship'])"
   ]
  },
  {
   "cell_type": "code",
   "execution_count": 277,
   "id": "63183bf1",
   "metadata": {},
   "outputs": [
    {
     "ename": "SyntaxError",
     "evalue": "invalid syntax (267780771.py, line 1)",
     "output_type": "error",
     "traceback": [
      "\u001b[1;36m  File \u001b[1;32m\"C:\\Users\\Aster\\AppData\\Local\\Temp\\ipykernel_15332\\267780771.py\"\u001b[1;36m, line \u001b[1;32m1\u001b[0m\n\u001b[1;33m    def ypred_m1 = m1.predict('area', 'bedrooms', 'bathrooms', 'stories', 'mainroad', 'guestroom',\u001b[0m\n\u001b[1;37m                 ^\u001b[0m\n\u001b[1;31mSyntaxError\u001b[0m\u001b[1;31m:\u001b[0m invalid syntax\n"
     ]
    }
   ],
   "source": [
    "def ypred_m1 = m1.predict('area', 'bedrooms', 'bathrooms', 'stories', 'mainroad', 'guestroom',\n",
    "       'basement', 'hotwaterheating', 'airconditioning', 'parking', 'prefarea',\n",
    "       'furnishingstatus', 'Access to shopping malls', 'access to schools',\n",
    "       'hospitals nearby', 'restuarants nearby', 'Property age housin',\n",
    "       'crimerates', 'place of worship')"
   ]
  },
  {
   "cell_type": "code",
   "execution_count": 284,
   "id": "900dccbf",
   "metadata": {},
   "outputs": [
    {
     "name": "stderr",
     "output_type": "stream",
     "text": [
      "C:\\Users\\Aster\\anaconda3\\lib\\site-packages\\sklearn\\base.py:450: UserWarning: X does not have valid feature names, but LinearRegression was fitted with feature names\n",
      "  warnings.warn(\n"
     ]
    }
   ],
   "source": [
    "ypred_m1 =m1.predict ([[9600,3,2,2,1,1,1,1,1,1,1,1,4,3,2,3,2,1,3]])"
   ]
  },
  {
   "cell_type": "raw",
   "id": "ba4fec84",
   "metadata": {},
   "source": []
  },
  {
   "cell_type": "code",
   "execution_count": 285,
   "id": "76492177",
   "metadata": {},
   "outputs": [
    {
     "name": "stdout",
     "output_type": "stream",
     "text": [
      "[8938693.63216656]\n"
     ]
    }
   ],
   "source": [
    "print( ypred_m1 )"
   ]
  },
  {
   "cell_type": "code",
   "execution_count": 272,
   "id": "77fac35e",
   "metadata": {},
   "outputs": [
    {
     "ename": "SyntaxError",
     "evalue": "invalid syntax (514123596.py, line 1)",
     "output_type": "error",
     "traceback": [
      "\u001b[1;36m  File \u001b[1;32m\"C:\\Users\\Aster\\AppData\\Local\\Temp\\ipykernel_15332\\514123596.py\"\u001b[1;36m, line \u001b[1;32m1\u001b[0m\n\u001b[1;33m    def m1_predict([['area', 'bedrooms', 'bathrooms', 'stories', 'mainroad', 'guestroom',\u001b[0m\n\u001b[1;37m                   ^\u001b[0m\n\u001b[1;31mSyntaxError\u001b[0m\u001b[1;31m:\u001b[0m invalid syntax\n"
     ]
    }
   ],
   "source": [
    "def m1_predict([['area', 'bedrooms', 'bathrooms', 'stories', 'mainroad', 'guestroom',\n",
    "       'basement', 'hotwaterheating', 'airconditioning', 'parking', 'prefarea',\n",
    "       'furnishingstatus', 'Access to shopping malls', 'access to schools',\n",
    "       'hospitals nearby', 'restuarants nearby', 'Property age housin',\n",
    "       'crimerates', 'place of worship']])"
   ]
  },
  {
   "cell_type": "code",
   "execution_count": null,
   "id": "5a49f30e",
   "metadata": {},
   "outputs": [],
   "source": []
  },
  {
   "cell_type": "code",
   "execution_count": null,
   "id": "17efdf8b",
   "metadata": {},
   "outputs": [],
   "source": []
  }
 ],
 "metadata": {
  "kernelspec": {
   "display_name": "Python 3 (ipykernel)",
   "language": "python",
   "name": "python3"
  },
  "language_info": {
   "codemirror_mode": {
    "name": "ipython",
    "version": 3
   },
   "file_extension": ".py",
   "mimetype": "text/x-python",
   "name": "python",
   "nbconvert_exporter": "python",
   "pygments_lexer": "ipython3",
   "version": "3.9.13"
  }
 },
 "nbformat": 4,
 "nbformat_minor": 5
}
