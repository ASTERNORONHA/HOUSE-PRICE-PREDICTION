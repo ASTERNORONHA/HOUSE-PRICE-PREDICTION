{
 "cells": [
  {
   "cell_type": "code",
   "execution_count": 1,
   "id": "6fbc7fd4",
   "metadata": {},
   "outputs": [],
   "source": [
    "import pandas as pd\n",
    "import numpy as np\n",
    "import matplotlib.pyplot as plt"
   ]
  },
  {
   "cell_type": "code",
   "execution_count": 2,
   "id": "7e265481",
   "metadata": {},
   "outputs": [],
   "source": [
    "df = pd.read_csv('Housing 1.csv')\n"
   ]
  },
  {
   "cell_type": "code",
   "execution_count": 3,
   "id": "9c2c5f5d",
   "metadata": {},
   "outputs": [],
   "source": [
    "#df.shape"
   ]
  },
  {
   "cell_type": "code",
   "execution_count": 4,
   "id": "7a4c0184",
   "metadata": {},
   "outputs": [],
   "source": [
    "#df.isnull().sum()"
   ]
  },
  {
   "cell_type": "code",
   "execution_count": 5,
   "id": "0683a949",
   "metadata": {},
   "outputs": [],
   "source": [
    "#df.dtypes"
   ]
  },
  {
   "cell_type": "code",
   "execution_count": 6,
   "id": "8c479520",
   "metadata": {},
   "outputs": [],
   "source": [
    "#df['bedrooms'].value_counts()"
   ]
  },
  {
   "cell_type": "code",
   "execution_count": 7,
   "id": "71b83d94",
   "metadata": {},
   "outputs": [],
   "source": [
    "#df['mainroad'].value_counts()"
   ]
  },
  {
   "cell_type": "code",
   "execution_count": 8,
   "id": "87f76666",
   "metadata": {},
   "outputs": [],
   "source": [
    "#df['bathrooms'].value_counts()"
   ]
  },
  {
   "cell_type": "code",
   "execution_count": 9,
   "id": "c9d836b4",
   "metadata": {},
   "outputs": [],
   "source": [
    "#df['stories'].value_counts()"
   ]
  },
  {
   "cell_type": "code",
   "execution_count": 10,
   "id": "b95c76fe",
   "metadata": {},
   "outputs": [],
   "source": [
    "#df['guestroom'].value_counts()"
   ]
  },
  {
   "cell_type": "code",
   "execution_count": 11,
   "id": "ffe4d89d",
   "metadata": {},
   "outputs": [],
   "source": [
    "#df['basement'].value_counts()"
   ]
  },
  {
   "cell_type": "code",
   "execution_count": 12,
   "id": "2fae527a",
   "metadata": {},
   "outputs": [],
   "source": [
    "#df['hotwaterheating'].value_counts()     "
   ]
  },
  {
   "cell_type": "code",
   "execution_count": 13,
   "id": "fa2ba4a3",
   "metadata": {},
   "outputs": [],
   "source": [
    "#df['airconditioning'].value_counts()     "
   ]
  },
  {
   "cell_type": "code",
   "execution_count": 14,
   "id": "f7bfe9b0",
   "metadata": {},
   "outputs": [],
   "source": [
    "#df['prefarea'].value_counts()     "
   ]
  },
  {
   "cell_type": "code",
   "execution_count": 15,
   "id": "51bd7a69",
   "metadata": {},
   "outputs": [],
   "source": [
    "#df['furnishingstatus'].value_counts()     "
   ]
  },
  {
   "cell_type": "code",
   "execution_count": 16,
   "id": "e539d9fa",
   "metadata": {},
   "outputs": [],
   "source": [
    "#df['crimerates'].value_counts()"
   ]
  },
  {
   "cell_type": "code",
   "execution_count": 17,
   "id": "bc4fc9db",
   "metadata": {},
   "outputs": [],
   "source": [
    "from sklearn.preprocessing import LabelEncoder"
   ]
  },
  {
   "cell_type": "code",
   "execution_count": 18,
   "id": "32bdede3",
   "metadata": {},
   "outputs": [],
   "source": [
    "lb = LabelEncoder()\n",
    "df['mainroad'] = lb.fit_transform(df['mainroad'])\n",
    "df['guestroom'] = lb.fit_transform(df['guestroom'])\n",
    "df['basement'] = lb.fit_transform(df['basement'])\n",
    "df['hotwaterheating'] = lb.fit_transform(df['hotwaterheating'])\n",
    "df['airconditioning'] = lb.fit_transform(df['airconditioning'])\n",
    "df['prefarea'] = lb.fit_transform(df['prefarea'])\n",
    "df['furnishingstatus'] = lb.fit_transform(df['furnishingstatus'])\n",
    "df['crimerates'] = lb.fit_transform(df['crimerates'])"
   ]
  },
  {
   "cell_type": "code",
   "execution_count": 19,
   "id": "51983b51",
   "metadata": {},
   "outputs": [],
   "source": [
    "#df['mainroad'].value_counts()\n",
    "# yes    468\n",
    "# no      77"
   ]
  },
  {
   "cell_type": "code",
   "execution_count": 20,
   "id": "39014410",
   "metadata": {},
   "outputs": [],
   "source": [
    "#df['guestroom'].value_counts()\n",
    "# no     448\n",
    "# yes     97"
   ]
  },
  {
   "cell_type": "code",
   "execution_count": 21,
   "id": "1455c51b",
   "metadata": {},
   "outputs": [],
   "source": [
    "#df['basement'].value_counts()\n",
    "# no     354\n",
    "# yes    191"
   ]
  },
  {
   "cell_type": "code",
   "execution_count": 22,
   "id": "92d4ada3",
   "metadata": {},
   "outputs": [],
   "source": [
    "#df['hotwaterheating'].value_counts()\n",
    "# no     520\n",
    "# yes     25"
   ]
  },
  {
   "cell_type": "code",
   "execution_count": 23,
   "id": "554aaf52",
   "metadata": {},
   "outputs": [],
   "source": [
    "#df['airconditioning'].value_counts()\n",
    "# no     373\n",
    "# yes    172"
   ]
  },
  {
   "cell_type": "code",
   "execution_count": 24,
   "id": "e8d1171b",
   "metadata": {},
   "outputs": [],
   "source": [
    "##df['prefarea'].value_counts()\n",
    "# no     417\n",
    "# yes    128"
   ]
  },
  {
   "cell_type": "code",
   "execution_count": 25,
   "id": "6e1b8c1c",
   "metadata": {},
   "outputs": [],
   "source": [
    "#df['furnishingstatus'].value_counts()\n",
    "# semi-furnished    227\n",
    "# unfurnished       178\n",
    "# furnished         140"
   ]
  },
  {
   "cell_type": "code",
   "execution_count": 26,
   "id": "c4317292",
   "metadata": {},
   "outputs": [],
   "source": [
    "#df['crimerates'].value_counts()"
   ]
  },
  {
   "cell_type": "code",
   "execution_count": 27,
   "id": "547bbe66",
   "metadata": {},
   "outputs": [],
   "source": [
    "#df.dtypes"
   ]
  },
  {
   "cell_type": "code",
   "execution_count": 28,
   "id": "24952f7d",
   "metadata": {},
   "outputs": [],
   "source": [
    "#df.duplicated().sum()"
   ]
  },
  {
   "cell_type": "code",
   "execution_count": 29,
   "id": "c924fda4",
   "metadata": {},
   "outputs": [],
   "source": [
    "x = df.drop('price',axis=1)\n",
    "y = df['price']\n",
    "#print(type(x))\n",
    "#print(type(y))\n",
    "#print(x.shape)\n",
    "#print(y.shape)\n",
    "#(x).columns\n"
   ]
  },
  {
   "cell_type": "code",
   "execution_count": 30,
   "id": "65a71f1c",
   "metadata": {},
   "outputs": [],
   "source": [
    "from sklearn.model_selection import train_test_split"
   ]
  },
  {
   "cell_type": "code",
   "execution_count": 31,
   "id": "d8d8325c",
   "metadata": {},
   "outputs": [],
   "source": [
    "x_train,x_test,y_train,y_test = train_test_split(x,y,test_size=0.40)\n",
    "#print(x_train.shape)\n",
    "#print(x_test.shape)\n",
    "#print(y_train.shape)\n",
    "#print(y_test.shape)"
   ]
  },
  {
   "cell_type": "markdown",
   "id": "cae810e7",
   "metadata": {},
   "source": [
    "#### Build the Model"
   ]
  },
  {
   "cell_type": "code",
   "execution_count": 32,
   "id": "72245416",
   "metadata": {},
   "outputs": [],
   "source": [
    "from sklearn.linear_model import LinearRegression\n",
    "\n",
    "from sklearn.metrics import mean_squared_error,mean_absolute_error"
   ]
  },
  {
   "cell_type": "code",
   "execution_count": 33,
   "id": "0647b5a7",
   "metadata": {},
   "outputs": [],
   "source": [
    "#def mscore(model):  # R2 score\n",
    "    #print('Training score',model.score(x_train,y_train))\n",
    "    #print('Testing score',model.score(x_test,y_test))\n",
    "    \n",
    "#def gen_metrics(ytest,ypred):\n",
    "   # mae = mean_absolute_error(ytest,ypred)\n",
    "   ## mse = mean_squared_error(ytest,ypred)\n",
    "    #rmse = np.sqrt(mean_squared_error(ytest,ypred))\n",
    "    #print('MAE',mae)\n",
    "   ## print('MSE',mse)\n",
    "    #print('RMSE',rmse)"
   ]
  },
  {
   "cell_type": "markdown",
   "id": "fecb3f4b",
   "metadata": {},
   "source": [
    "### 1) LinearRegression"
   ]
  },
  {
   "cell_type": "code",
   "execution_count": 34,
   "id": "fa037b29",
   "metadata": {},
   "outputs": [
    {
     "data": {
      "text/html": [
       "<style>#sk-container-id-1 {color: black;background-color: white;}#sk-container-id-1 pre{padding: 0;}#sk-container-id-1 div.sk-toggleable {background-color: white;}#sk-container-id-1 label.sk-toggleable__label {cursor: pointer;display: block;width: 100%;margin-bottom: 0;padding: 0.3em;box-sizing: border-box;text-align: center;}#sk-container-id-1 label.sk-toggleable__label-arrow:before {content: \"▸\";float: left;margin-right: 0.25em;color: #696969;}#sk-container-id-1 label.sk-toggleable__label-arrow:hover:before {color: black;}#sk-container-id-1 div.sk-estimator:hover label.sk-toggleable__label-arrow:before {color: black;}#sk-container-id-1 div.sk-toggleable__content {max-height: 0;max-width: 0;overflow: hidden;text-align: left;background-color: #f0f8ff;}#sk-container-id-1 div.sk-toggleable__content pre {margin: 0.2em;color: black;border-radius: 0.25em;background-color: #f0f8ff;}#sk-container-id-1 input.sk-toggleable__control:checked~div.sk-toggleable__content {max-height: 200px;max-width: 100%;overflow: auto;}#sk-container-id-1 input.sk-toggleable__control:checked~label.sk-toggleable__label-arrow:before {content: \"▾\";}#sk-container-id-1 div.sk-estimator input.sk-toggleable__control:checked~label.sk-toggleable__label {background-color: #d4ebff;}#sk-container-id-1 div.sk-label input.sk-toggleable__control:checked~label.sk-toggleable__label {background-color: #d4ebff;}#sk-container-id-1 input.sk-hidden--visually {border: 0;clip: rect(1px 1px 1px 1px);clip: rect(1px, 1px, 1px, 1px);height: 1px;margin: -1px;overflow: hidden;padding: 0;position: absolute;width: 1px;}#sk-container-id-1 div.sk-estimator {font-family: monospace;background-color: #f0f8ff;border: 1px dotted black;border-radius: 0.25em;box-sizing: border-box;margin-bottom: 0.5em;}#sk-container-id-1 div.sk-estimator:hover {background-color: #d4ebff;}#sk-container-id-1 div.sk-parallel-item::after {content: \"\";width: 100%;border-bottom: 1px solid gray;flex-grow: 1;}#sk-container-id-1 div.sk-label:hover label.sk-toggleable__label {background-color: #d4ebff;}#sk-container-id-1 div.sk-serial::before {content: \"\";position: absolute;border-left: 1px solid gray;box-sizing: border-box;top: 0;bottom: 0;left: 50%;z-index: 0;}#sk-container-id-1 div.sk-serial {display: flex;flex-direction: column;align-items: center;background-color: white;padding-right: 0.2em;padding-left: 0.2em;position: relative;}#sk-container-id-1 div.sk-item {position: relative;z-index: 1;}#sk-container-id-1 div.sk-parallel {display: flex;align-items: stretch;justify-content: center;background-color: white;position: relative;}#sk-container-id-1 div.sk-item::before, #sk-container-id-1 div.sk-parallel-item::before {content: \"\";position: absolute;border-left: 1px solid gray;box-sizing: border-box;top: 0;bottom: 0;left: 50%;z-index: -1;}#sk-container-id-1 div.sk-parallel-item {display: flex;flex-direction: column;z-index: 1;position: relative;background-color: white;}#sk-container-id-1 div.sk-parallel-item:first-child::after {align-self: flex-end;width: 50%;}#sk-container-id-1 div.sk-parallel-item:last-child::after {align-self: flex-start;width: 50%;}#sk-container-id-1 div.sk-parallel-item:only-child::after {width: 0;}#sk-container-id-1 div.sk-dashed-wrapped {border: 1px dashed gray;margin: 0 0.4em 0.5em 0.4em;box-sizing: border-box;padding-bottom: 0.4em;background-color: white;}#sk-container-id-1 div.sk-label label {font-family: monospace;font-weight: bold;display: inline-block;line-height: 1.2em;}#sk-container-id-1 div.sk-label-container {text-align: center;}#sk-container-id-1 div.sk-container {/* jupyter's `normalize.less` sets `[hidden] { display: none; }` but bootstrap.min.css set `[hidden] { display: none !important; }` so we also need the `!important` here to be able to override the default hidden behavior on the sphinx rendered scikit-learn.org. See: https://github.com/scikit-learn/scikit-learn/issues/21755 */display: inline-block !important;position: relative;}#sk-container-id-1 div.sk-text-repr-fallback {display: none;}</style><div id=\"sk-container-id-1\" class=\"sk-top-container\"><div class=\"sk-text-repr-fallback\"><pre>LinearRegression()</pre><b>In a Jupyter environment, please rerun this cell to show the HTML representation or trust the notebook. <br />On GitHub, the HTML representation is unable to render, please try loading this page with nbviewer.org.</b></div><div class=\"sk-container\" hidden><div class=\"sk-item\"><div class=\"sk-estimator sk-toggleable\"><input class=\"sk-toggleable__control sk-hidden--visually\" id=\"sk-estimator-id-1\" type=\"checkbox\" checked><label for=\"sk-estimator-id-1\" class=\"sk-toggleable__label sk-toggleable__label-arrow\">LinearRegression</label><div class=\"sk-toggleable__content\"><pre>LinearRegression()</pre></div></div></div></div></div>"
      ],
      "text/plain": [
       "LinearRegression()"
      ]
     },
     "execution_count": 34,
     "metadata": {},
     "output_type": "execute_result"
    }
   ],
   "source": [
    "m1 = LinearRegression()\n",
    "m1.fit(x_train,y_train)\n",
    "\n"
   ]
  },
  {
   "cell_type": "code",
   "execution_count": 35,
   "id": "be2c2ce2",
   "metadata": {},
   "outputs": [],
   "source": [
    "#mscore(m1)"
   ]
  },
  {
   "cell_type": "code",
   "execution_count": 36,
   "id": "aae92228",
   "metadata": {},
   "outputs": [],
   "source": [
    "ypred_m1 = m1.predict(x_test)"
   ]
  },
  {
   "cell_type": "code",
   "execution_count": 37,
   "id": "770f637a",
   "metadata": {},
   "outputs": [],
   "source": [
    "#gen_metrics(y_test,ypred_m1)"
   ]
  },
  {
   "cell_type": "code",
   "execution_count": 38,
   "id": "5a49f30e",
   "metadata": {},
   "outputs": [],
   "source": [
    "import warnings\n",
    "warnings.filterwarnings('ignore')\n",
    "\n",
    "import ipywidgets as widgets\n",
    "from IPython.display import display, clear_output"
   ]
  },
  {
   "cell_type": "code",
   "execution_count": 39,
   "id": "923a3c6d",
   "metadata": {},
   "outputs": [],
   "source": [
    "#!jupyter nbextension enable --py widgetsnbextension --sys-prefix\n",
    "#!jupyter serverextension enable voila --sys-prefix"
   ]
  },
  {
   "cell_type": "code",
   "execution_count": 40,
   "id": "17efdf8b",
   "metadata": {},
   "outputs": [],
   "source": [
    "# Image Widget\n",
    "\n",
    "file = open(\"house3.jpg\", \"rb\")\n",
    "image = file.read()\n",
    "\n",
    "image_headline = widgets.Image(\n",
    "\n",
    "                    value=image,\n",
    "                    format='jpg',\n",
    "                    width='900'\n",
    "                )\n",
    "\n",
    "label_headline = widgets.Label(\n",
    "                    value='Photo by CDC on Unsplash',\n",
    "                    style={'description_width': 'initial'}\n",
    "                )\n",
    "\n",
    "\n",
    "vbox_headline = widgets.VBox([image_headline])"
   ]
  },
  {
   "cell_type": "code",
   "execution_count": 41,
   "id": "9ce85648",
   "metadata": {},
   "outputs": [],
   "source": [
    "# Image Widget\n",
    "\n",
    "file1 = open(\"house2.jpg\", \"rb\")\n",
    "image1 = file1.read()\n",
    "\n",
    "image_headline1 = widgets.Image(\n",
    "                    value=image1,\n",
    "                    format='jpg',\n",
    "                    width='900'\n",
    "                )\n",
    "label_headline = widgets.Label(\n",
    "                    value='Photo by CDC on Unsplash',\n",
    "                    style={'description_width': 'initial'}\n",
    "                )\n",
    "\n",
    "\n",
    "vbox_headline1 = widgets.VBox([image_headline1])"
   ]
  },
  {
   "cell_type": "code",
   "execution_count": 42,
   "id": "d06f42f8",
   "metadata": {},
   "outputs": [],
   "source": [
    "# Image Widget\n",
    "\n",
    "file2 = open(\"house.jpg\", \"rb\")\n",
    "image2 = file2.read()\n",
    "\n",
    "image_headline2 = widgets.Image(\n",
    "                    value=image2,\n",
    "                    format='jpg',\n",
    "                    width='900'\n",
    "                )\n",
    "label_headline = widgets.Label(\n",
    "                    value='Photo by CDC on Unsplash',\n",
    "                    style={'description_width': 'initial'}\n",
    "                )\n",
    "\n",
    "\n",
    "vbox_headline2 = widgets.VBox([image_headline2])"
   ]
  },
  {
   "cell_type": "code",
   "execution_count": 43,
   "id": "707d3fe4",
   "metadata": {},
   "outputs": [],
   "source": [
    "Area = widgets.Text()\n",
    "\n",
    "\n"
   ]
  },
  {
   "cell_type": "code",
   "execution_count": 44,
   "id": "41d78a5d",
   "metadata": {},
   "outputs": [],
   "source": [
    "bedrooms = widgets.Dropdown(options= ['',1,2,3,4,5,6],disbaled =False)\n",
    "\n"
   ]
  },
  {
   "cell_type": "code",
   "execution_count": 45,
   "id": "c05d006b",
   "metadata": {},
   "outputs": [],
   "source": [
    "bathrooms=  widgets.Dropdown(options= ['',1,2,3,4],disbaled =False)\n",
    "\n"
   ]
  },
  {
   "cell_type": "code",
   "execution_count": 46,
   "id": "7e8ee253",
   "metadata": {},
   "outputs": [],
   "source": [
    "stories= widgets.Dropdown(options= ['',1,2,3,4],disbaled =False)\n",
    "\n"
   ]
  },
  {
   "cell_type": "code",
   "execution_count": 47,
   "id": "f443ec4b",
   "metadata": {},
   "outputs": [],
   "source": [
    "mainroad = widgets.Dropdown(options= ['',\"YES\",\"NO\"],disbaled =False)\n",
    "\n"
   ]
  },
  {
   "cell_type": "code",
   "execution_count": 48,
   "id": "1feb2388",
   "metadata": {},
   "outputs": [],
   "source": [
    "guestroom =  widgets.Dropdown(options= ['',\"YES\",\"NO\"],disbaled =False)\n",
    "\n"
   ]
  },
  {
   "cell_type": "code",
   "execution_count": 49,
   "id": "6dec0e02",
   "metadata": {},
   "outputs": [],
   "source": [
    "basement =  widgets.Dropdown(options= ['',\"YES\",\"NO\"],disbaled =False)\n"
   ]
  },
  {
   "cell_type": "code",
   "execution_count": 50,
   "id": "bcc4d76d",
   "metadata": {},
   "outputs": [],
   "source": [
    "hotwaterheating = widgets.Dropdown(options= ['',\"YES\",\"NO\"],disbaled =False)\n",
    "\n"
   ]
  },
  {
   "cell_type": "code",
   "execution_count": 51,
   "id": "440c7c74",
   "metadata": {},
   "outputs": [],
   "source": [
    "airconditioning =  widgets.Dropdown(options= ['',\"YES\",\"NO\"],disbaled =False)\n",
    "\n"
   ]
  },
  {
   "cell_type": "code",
   "execution_count": 52,
   "id": "98332fc3",
   "metadata": {},
   "outputs": [],
   "source": [
    "parking =  widgets.Dropdown(options= ['',\"YES\",\"NO\"],disbaled =False)\n",
    "\n"
   ]
  },
  {
   "cell_type": "code",
   "execution_count": 53,
   "id": "7700c47a",
   "metadata": {},
   "outputs": [],
   "source": [
    "prefarea=  widgets.Dropdown(options= ['',\"YES\",\"NO\"],disbaled =False)\n",
    "\n"
   ]
  },
  {
   "cell_type": "code",
   "execution_count": 54,
   "id": "f5c81125",
   "metadata": {},
   "outputs": [],
   "source": [
    "furnishing_status =  widgets.Dropdown(options= ['',\"semi-furnished\",\"unfurnished\",\"furnished\"],disbaled =False)\n",
    "\n"
   ]
  },
  {
   "cell_type": "code",
   "execution_count": 55,
   "id": "a5fc89be",
   "metadata": {},
   "outputs": [],
   "source": [
    "access_to_shopping_malls =  widgets.Dropdown(options= ['',1,2,3,4,5,6,7,8,9],description=' NUMBER OF SHOPING MALLS NEARBY',disbaled =False)\n"
   ]
  },
  {
   "cell_type": "code",
   "execution_count": 56,
   "id": "098a5c5e",
   "metadata": {},
   "outputs": [],
   "source": [
    "access_to_school =  widgets.Dropdown(options= ['',1,2,3,4,5,6,7,8,9],description=' NUMBER OF SCHOOLS NEARBY',disbaled =False)\n"
   ]
  },
  {
   "cell_type": "code",
   "execution_count": 57,
   "id": "4b206007",
   "metadata": {},
   "outputs": [],
   "source": [
    "hospital_nearby = widgets.Dropdown(options= ['',1,2,3,4,5,6,7,8,9],description=' NUMBER OF HOSPITALS NEARBY',disbaled =False)\n",
    " "
   ]
  },
  {
   "cell_type": "code",
   "execution_count": 58,
   "id": "de483b6d",
   "metadata": {},
   "outputs": [],
   "source": [
    "restuarant_nearby = widgets.Dropdown(options= ['',1,2,3,4,5,6,7,8,9],description=' NUMBER OF RESTUARANTS NEARBY',disbaled =False)\n"
   ]
  },
  {
   "cell_type": "code",
   "execution_count": 59,
   "id": "427a6848",
   "metadata": {},
   "outputs": [],
   "source": [
    "p=restuarant_nearby .value"
   ]
  },
  {
   "cell_type": "code",
   "execution_count": 60,
   "id": "0be7dd7e",
   "metadata": {},
   "outputs": [],
   "source": [
    "Property_age_housin = widgets.Dropdown(options= ['',1,2,3,4,5,6,7,8,9],description='APPROXIMATE PROPERTY AGE',disbaled =False)\n"
   ]
  },
  {
   "cell_type": "code",
   "execution_count": 61,
   "id": "0063851f",
   "metadata": {},
   "outputs": [],
   "source": [
    "place_of_worship = widgets.Dropdown(options= ['',1,2,3,4,5,6,7,8,9],description=' PLACES OF WORSHIP NEARBY',disbaled =False)\n"
   ]
  },
  {
   "cell_type": "code",
   "execution_count": 62,
   "id": "571e5674",
   "metadata": {},
   "outputs": [],
   "source": [
    "crimerates = widgets.Dropdown(options= ['',\"high\",\"low\"],disbaled =False)\n"
   ]
  },
  {
   "cell_type": "code",
   "execution_count": 63,
   "id": "19deb9c7",
   "metadata": {},
   "outputs": [],
   "source": [
    "text_0 = widgets.HTML(value=\"<h1>ENTER PROPER VALUES FOR PREDICTION</h1>\")\n",
    "text_1 = widgets.HTML(value=\"<h2>SPECIFY AREA</h2>\")\n",
    "text_2= widgets.HTML(value=\"<h2>SPECIFY NO OF BEDROOMS</h2>\")\n",
    "text_3= widgets.HTML(value=\"<h2>SPECIFY NO OF BATHROOMS</h2>\")\n",
    "text_4= widgets.HTML(value=\"<h2>SPECIFY NO OF STORIES </h2>\")\n",
    "text_5 = widgets.HTML(value=\"<h2>ACCESS TO MAIN ROAD</h2>\")\n",
    "text_6 = widgets.HTML(value=\"<h2>GUEST ROOM</h2>\")\n",
    "text_7= widgets.HTML(value=\"<h2> BASEMENT </h2>\")\n",
    "text_8= widgets.HTML(value=\"<h2> HOT WATER HEATING </h2>\")\n",
    "text_9= widgets.HTML(value=\"<h2> AIR CONDITIONING </h2>\")\n",
    "text_10= widgets.HTML(value=\"<h2> PARKING </h2>\")\n",
    "text_11= widgets.HTML(value=\"<h2> PREFERANCE </h2>\")\n",
    "text_12= widgets.HTML(value=\"<h2> FURNISHING STATUS</h2>\")\n",
    "text_13= widgets.HTML(value=\"<h2> ACCESS TO SHOPING MALL </h2>\")\n",
    "text_14= widgets.HTML(value=\"<h2> ACCESS TO SCHOOL</h2>\")\n",
    "text_15= widgets.HTML(value=\"<h2> NUMBER OF HOSPITALS NEARBY HOSPITAL NEARBY </h2>\")\n",
    "text_16= widgets.HTML(value=\"<h2> NUMBER OF RESTAURANT NERARBY </h2>\")\n",
    "text_17= widgets.HTML(value=\"<h2>APRROXIMATE AGE OF PROPERTY  </h2>\")\n",
    "text_18= widgets.HTML(value=\"<h2> CRIMERATER IN THE AREA</h2>\")\n",
    "text_19= widgets.HTML(value=\"<h2> PLACES OF WORSHIP NEARBY</h2>\")\n",
    "\n",
    "\n"
   ]
  },
  {
   "cell_type": "code",
   "execution_count": 64,
   "id": "3117573e",
   "metadata": {},
   "outputs": [],
   "source": [
    "button_send = widgets.Button(\n",
    "                description='PREDICT PRICE',\n",
    "                tooltip='Send',\n",
    "                style={'description_width': 'initial'}\n",
    "            )\n",
    "\n",
    "output = widgets.Output()\n",
    "\n",
    "def on_button_clicked(event):\n",
    "    with output:\n",
    "        clear_output()\n",
    "        \n",
    "        a=(Area.value)\n",
    "        b=( bedrooms.value)\n",
    "        c=(bathrooms.value)\n",
    "        d=(stories.value)\n",
    "        if mainroad.value == \"YES\":\n",
    "            e=1\n",
    "        else :\n",
    "            e=0\n",
    "        if guestroom.value == \"YES\":\n",
    "            f=1\n",
    "        else :\n",
    "            f=0\n",
    "        if basement.value == \"YES\":\n",
    "            g=1\n",
    "        else :\n",
    "            g=0 \n",
    "        if hotwaterheating.value == \"YES\":\n",
    "            h=1\n",
    "        else :\n",
    "            h=0\n",
    "        if airconditioning.value == \"YES\":\n",
    "            i=1\n",
    "        else :\n",
    "            i=0\n",
    "        if parking.value == \"YES\":\n",
    "            j=1\n",
    "        else :\n",
    "            j=0\n",
    "        if prefarea.value == \"YES\":\n",
    "            k=1\n",
    "        else :\n",
    "            k=0\n",
    "        if furnishing_status.value == \"semi-furnished\":\n",
    "            l=1\n",
    "        elif  furnishing_status.value == \"unfurnished\":\n",
    "            l=2\n",
    "        else:\n",
    "            l=0\n",
    "            furnishing_status.value= \"furnished\"\n",
    "        m = (access_to_shopping_malls.value)\n",
    "        n = access_to_school.value\n",
    "        o= hospital_nearby.value\n",
    "        p=restuarant_nearby .value\n",
    "        q = Property_age_housin.value\n",
    "        if crimerates.value == \"low\":\n",
    "            r=1\n",
    "        else :\n",
    "            r=0\n",
    "        s = place_of_worship.value\n",
    "        print(\"The area of the selected house is \", a,\"squrt\")\n",
    "        print(\"Number of bedrooms is \",b)\n",
    "        print(\"it has\",c,\"bathrooms\")\n",
    "        print(\"It is \",d,\"high\")\n",
    "        print(\"Is the house close to the main road?=\",mainroad.value)\n",
    "        print(\"does the house have a guestroom?=\",guestroom.value)\n",
    "        print(\"Does the house have a basement?=\",basement.value)\n",
    "        print(\"Does the house have a hot water heating system?= \",hotwaterheating.value )\n",
    "        print(\"Does the house have a air conditioning system?=\",airconditioning.value)\n",
    "        print(\"Does the house have a parking area?=\",parking.value)\n",
    "        print(\"Build your preferance area\", prefarea.value)\n",
    "        print(\"furnishing status of the house=\",furnishing_status.value)\n",
    "        print(\"Amount of shopping malls nearby=\",m)\n",
    "        print(\"number of hospitals nearby=\",n)\n",
    "        print(\"hospitals nearby=\",o)\n",
    "        print('restuarants nearby=',p)\n",
    "        print(\"The property is\",q,\"years old\")\n",
    "        print(\"crime rates are\",place_of_worship.value)\n",
    "        print(\"places of worship nearby=\",s)\n",
    "        b1=[a,b,c,d,e,f,g,h,i,j,k,l,m,n,o,p,q,r,s]\n",
    "        b2=np.array(b1,dtype=float)\n",
    "        ypred_m1 = m1.predict([b2])\n",
    "        price_predicted=int(ypred_m1)\n",
    "        print(\"price predicted=\",price_predicted,\"Rs\")\n",
    "\n",
    "button_send.on_click(on_button_clicked)\n",
    "\n",
    "vbox_result = widgets.VBox([button_send, output])"
   ]
  },
  {
   "cell_type": "code",
   "execution_count": 65,
   "id": "066a7400",
   "metadata": {},
   "outputs": [],
   "source": [
    "vbox_text = widgets.VBox([text_0,text_1,Area, text_2,bedrooms,text_3, bathrooms ,text_4, stories ,text_5, mainroad,text_6, guestroom,\n",
    "      text_7, basement,text_8, hotwaterheating,text_9,airconditioning,text_10, parking, text_11,prefarea,text_12,\n",
    "       furnishing_status, text_13,access_to_shopping_malls, text_14,access_to_school,text_15,\n",
    "       hospital_nearby,text_16,restuarant_nearby,text_17, Property_age_housin,text_18,\n",
    "        crimerates,text_19, place_of_worship,vbox_result])"
   ]
  },
  {
   "cell_type": "code",
   "execution_count": 66,
   "id": "2ec04b1c",
   "metadata": {},
   "outputs": [
    {
     "data": {
      "application/vnd.jupyter.widget-view+json": {
       "model_id": "cd336b58c4be4ef08e9b7693504809dd",
       "version_major": 2,
       "version_minor": 0
      },
      "text/plain": [
       "VBox(children=(VBox(children=(Image(value=b'\\xff\\xd8\\xff\\xe0\\x00\\x10JFIF\\x00\\x01\\x01\\x00\\x00\\x01\\x00\\x01\\x00\\x…"
      ]
     },
     "metadata": {},
     "output_type": "display_data"
    }
   ],
   "source": [
    "page = widgets.VBox([vbox_headline,vbox_headline2,vbox_text,vbox_headline1])\n",
    "display(page)"
   ]
  },
  {
   "cell_type": "code",
   "execution_count": null,
   "id": "d53597fe",
   "metadata": {},
   "outputs": [],
   "source": [
    "#!pip freeze > requirements.txt"
   ]
  },
  {
   "cell_type": "code",
   "execution_count": null,
   "id": "a4a9beec",
   "metadata": {},
   "outputs": [],
   "source": []
  },
  {
   "cell_type": "code",
   "execution_count": null,
   "id": "e1b7975f",
   "metadata": {},
   "outputs": [],
   "source": []
  },
  {
   "cell_type": "code",
   "execution_count": null,
   "id": "db594953",
   "metadata": {},
   "outputs": [],
   "source": []
  }
 ],
 "metadata": {
  "kernelspec": {
   "display_name": "Python 3 (ipykernel)",
   "language": "python",
   "name": "python3"
  },
  "language_info": {
   "codemirror_mode": {
    "name": "ipython",
    "version": 3
   },
   "file_extension": ".py",
   "mimetype": "text/x-python",
   "name": "python",
   "nbconvert_exporter": "python",
   "pygments_lexer": "ipython3",
   "version": "3.9.13"
  }
 },
 "nbformat": 4,
 "nbformat_minor": 5
}
